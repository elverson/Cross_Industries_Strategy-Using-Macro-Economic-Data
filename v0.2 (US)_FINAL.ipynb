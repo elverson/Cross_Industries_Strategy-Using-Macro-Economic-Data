{
 "cells": [
  {
   "cell_type": "code",
   "execution_count": 1,
   "id": "7ffb85e7",
   "metadata": {},
   "outputs": [],
   "source": [
    "import os\n",
    "import numpy as np\n",
    "import pandas as pd\n",
    "import matplotlib.pyplot as plt\n",
    "import datetime\n",
    "import statsmodels.api as sm\n",
    "from statsmodels.stats.outliers_influence import variance_inflation_factor\n",
    "import sklearn.tree\n",
    "from sklearn.linear_model import ElasticNet\n",
    "from sklearn.tree import DecisionTreeRegressor\n",
    "from sklearn.linear_model import LinearRegression as LR\n",
    "from sklearn.metrics import r2_score\n",
    "from sklearn.ensemble import RandomForestRegressor\n",
    "from sklearn.model_selection import train_test_split\n",
    "from sklearn.linear_model import LinearRegression\n",
    "from sklearn.ensemble import RandomForestRegressor\n",
    "from sklearn.metrics import r2_score\n",
    "from sklearn.metrics import mean_squared_error\n",
    "import seaborn as sns\n",
    "import warnings\n",
    "warnings.filterwarnings('ignore')"
   ]
  },
  {
   "cell_type": "code",
   "execution_count": 2,
   "id": "84cd6b75",
   "metadata": {},
   "outputs": [],
   "source": [
    "PRICE_XL_PATH       = \"Indices.xlsx\"\n",
    "PRICE_XL_SHEET_NAME = \"Index US\"\n",
    "MACRO_CSV_PATH      = \"US_economic_data.csv\"\n",
    "index_to_predict = 'S&P500'\n",
    "economic_csv = 'US_economic_data.csv'\n",
    "economic_xlx = 'macro_data.xlsx'\n",
    "stop_loss = -0.02\n",
    "take_profit = 0.08\n",
    "Initial_capital = 1000000\n",
    "\n",
    "#change here(sheetnames): each sheet represents data from specific years. \n",
    "#\n",
    "# 1977to2022\n",
    "# 1977to1986\n",
    "# 1986to1995\n",
    "# 1995to2004\n",
    "# 2004to2013\n",
    "# 2013to2022\n",
    "# marketregime\n",
    "\n",
    "#marketregime is regime based which is 2000 to 2022, changed to validation_ratio to 0.55.\n",
    "#which means your test set is 50% and your train set is 45%. You can adjust your validation. \n",
    "#Based on which year is testing and which year is training for your regime.\n",
    "sheet = 'marketregime'\n",
    "validation_ratio = 0.3"
   ]
  },
  {
   "cell_type": "code",
   "execution_count": 3,
   "id": "4ddf1a05",
   "metadata": {},
   "outputs": [],
   "source": [
    "# VIF dataframe\n",
    "def vifdata(X):\n",
    "    vif_data = pd.DataFrame()\n",
    "    vif_data[\"feature\"] = X.columns\n",
    "\n",
    "    # calculating VIF for each feature\n",
    "    vif_data[\"VIF\"] = [variance_inflation_factor(X.values, i)\n",
    "                              for i in range(len(X.columns))]\n",
    "\n",
    "    return vif_data"
   ]
  },
  {
   "cell_type": "code",
   "execution_count": 4,
   "id": "e0189ebe",
   "metadata": {},
   "outputs": [],
   "source": [
    "def importance_random_forest(X_train,y_train):\n",
    "    from sklearn.ensemble import RandomForestRegressor\n",
    "\n",
    "    # Create and fit a Random Forest model\n",
    "    model = RandomForestRegressor()\n",
    "    model.fit(X_train, y_train)\n",
    "\n",
    "    # Get feature importances\n",
    "    importances = model.feature_importances_\n",
    "\n",
    "    # Print feature importances\n",
    "    for feature, importance in zip(X_train.columns, importances):\n",
    "        print(f\"{feature}: {importance}\")"
   ]
  },
  {
   "cell_type": "code",
   "execution_count": 5,
   "id": "5da7e106",
   "metadata": {},
   "outputs": [],
   "source": [
    "def correlation_matrix(df):   \n",
    "    plt.figure(figsize = (6, 6))\n",
    "    heatmap = sns.heatmap(df.corr(), vmin = -1, vmax = 1, annot = True)\n",
    "    heatmap.set_title('Macro Correlation Heatmap', fontdict = {'fontsize' : 18}, pad = 12)\n",
    "    return heatmap"
   ]
  },
  {
   "cell_type": "code",
   "execution_count": 6,
   "id": "72bc67b2",
   "metadata": {},
   "outputs": [],
   "source": [
    "def tsplot(y, figsize=(12, 7), syle='bmh'):\n",
    "    \n",
    "    if not isinstance(y, pd.Series):\n",
    "        y = pd.Series(y)\n",
    "        \n",
    "    with plt.style.context(style='bmh'):\n",
    "        fig = plt.figure(figsize=figsize)\n",
    "        layout = (2,1)\n",
    "        ts_ax = plt.subplot2grid(layout, (0,0), colspan=2)\n",
    "        y.plot(ax=ts_ax)\n",
    "        p_value = sm.tsa.stattools.adfuller(y)[1]\n",
    "        ts_ax.set_title('Time Series Analysis Plots\\n Dickey-Fuller: p={0:.5f}'.format(p_value))\n",
    "\n",
    "        plt.tight_layout()"
   ]
  },
  {
   "cell_type": "code",
   "execution_count": 7,
   "id": "23bd1684",
   "metadata": {},
   "outputs": [
    {
     "name": "stdout",
     "output_type": "stream",
     "text": [
      "            CONSUMERCONFIDENCEINDEX  2YEARYIELD  10YEARYIELD  \\\n",
      "date                                                           \n",
      "2000-01-31                 102.8381        6.40         6.63   \n",
      "2000-02-29                 102.8921        6.63         6.60   \n",
      "2000-03-31                 102.8094        6.38         6.58   \n",
      "2000-04-30                 102.7905        6.30         6.49   \n",
      "2000-05-31                 102.7646        6.38         6.62   \n",
      "\n",
      "            CONSUMERSENTIMENT    CORECPI  COREPCE       CPI       GDP  \\\n",
      "date                                                                    \n",
      "2000-01-31              112.0  73.809116   5733.3  2.738892  4.225956   \n",
      "2000-02-29              111.3  74.098078   5799.9  3.221884  4.225956   \n",
      "2000-03-31              107.1  74.510880   5845.4  3.757576  4.225956   \n",
      "2000-04-30              109.2  74.676002   5835.4  3.068592  5.244683   \n",
      "2000-05-31              110.7  74.676002   5860.8  3.188929  5.244683   \n",
      "\n",
      "            INTERESTRATE_MM  LABORFORCE_FORECAST  MEDIANHOUSESALES  \\\n",
      "date                                                                 \n",
      "2000-01-31             5.95          142385666.7            165300   \n",
      "2000-02-29             6.01          142385666.7            165300   \n",
      "2000-03-31             6.14          142385666.7            165300   \n",
      "2000-04-30             6.28          142576666.7            163200   \n",
      "2000-05-31             6.71          142576666.7            163200   \n",
      "\n",
      "            MONTHLYHOUSESUPPLY  UNEMPLOYMENTFORECAST  NON_FARM  \\\n",
      "date                                                             \n",
      "2000-01-31                 4.3              5.224948    131009   \n",
      "2000-02-29                 4.3              5.224948    131120   \n",
      "2000-03-31                 4.3              5.224948    131605   \n",
      "2000-04-30                 4.4              5.214622    131884   \n",
      "2000-05-31                 4.4              5.214622    132106   \n",
      "\n",
      "            REAL_GDP_FORECAST  SHORTINTERESTRATE_FORECAST  UNEMPLOYMENTRATE  \\\n",
      "date                                                                          \n",
      "2000-01-31           1.465778                    6.033333          74.26526   \n",
      "2000-02-29           1.465778                    6.033333          74.28468   \n",
      "2000-03-31           1.465778                    6.033333          74.24421   \n",
      "2000-04-30           7.483628                    6.573333          74.50922   \n",
      "2000-05-31           7.483628                    6.573333          74.07902   \n",
      "\n",
      "            CPI_FORECAST  S&P500_price   S&P500  \n",
      "date                                             \n",
      "2000-01-31      3.257790       1394.46  1366.42  \n",
      "2000-02-29      3.257790       1366.42  1498.58  \n",
      "2000-03-31      3.257790       1498.58  1452.43  \n",
      "2000-04-30      3.293834       1452.43  1420.60  \n",
      "2000-05-31      3.293834       1420.60  1454.60  \n"
     ]
    },
    {
     "data": {
      "image/png": "[encoded data removed]",
      "text/plain": [
       "<Figure size 864x504 with 1 Axes>"
      ]
     },
     "metadata": {
      "needs_background": "light"
     },
     "output_type": "display_data"
    },
    {
     "data": {
      "image/png": "[encoded data removed]",
      "text/plain": [
       "<Figure size 864x504 with 1 Axes>"
      ]
     },
     "metadata": {
      "needs_background": "light"
     },
     "output_type": "display_data"
    }
   ],
   "source": [
    "#load dataframe\n",
    "#us_economic_data = pd.read_csv(economic_csv,index_col=None)\n",
    "us_economic_data = pd.read_excel(economic_xlx, sheet_name=sheet, engine='openpyxl',index_col=None)\n",
    "df = us_economic_data\n",
    "#df = us_economic_data.iloc[:, :-2]\n",
    "\n",
    "#Exploratory Data Analysis & Feature Selection\n",
    "df.rename(columns = {'Unnamed: 0':'date'}, inplace = True)\n",
    "df['date'] = pd.to_datetime(df['date'])\n",
    "df = df.set_index('date')\n",
    "\n",
    "print(df.head(5))\n",
    "\n",
    "tsplot(df[index_to_predict])\n",
    "\n",
    "data_diff = df[index_to_predict] - df[index_to_predict].shift(1)\n",
    "#data_diff = ((df[index_to_predict] - df[index_to_predict].shift(1))/df[index_to_predict].shift(1))*100\n",
    "\n",
    "tsplot(data_diff[1:])"
   ]
  },
  {
   "cell_type": "code",
   "execution_count": 8,
   "id": "0f3ba5bc",
   "metadata": {},
   "outputs": [
    {
     "data": {
      "text/plain": [
       "Index(['CONSUMERCONFIDENCEINDEX', '2YEARYIELD', '10YEARYIELD',\n",
       "       'CONSUMERSENTIMENT', 'CORECPI', 'COREPCE', 'CPI', 'GDP',\n",
       "       'INTERESTRATE_MM', 'LABORFORCE_FORECAST', 'MEDIANHOUSESALES',\n",
       "       'MONTHLYHOUSESUPPLY', 'UNEMPLOYMENTFORECAST', 'NON_FARM',\n",
       "       'REAL_GDP_FORECAST', 'SHORTINTERESTRATE_FORECAST', 'UNEMPLOYMENTRATE',\n",
       "       'CPI_FORECAST', 'S&P500_price', 'S&P500'],\n",
       "      dtype='object')"
      ]
     },
     "execution_count": 8,
     "metadata": {},
     "output_type": "execute_result"
    }
   ],
   "source": [
    "df.columns"
   ]
  },
  {
   "cell_type": "code",
   "execution_count": 9,
   "id": "82bf1d24",
   "metadata": {},
   "outputs": [
    {
     "data": {
      "text/html": [
       "<div>\n",
       "<style scoped>\n",
       "    .dataframe tbody tr th:only-of-type {\n",
       "        vertical-align: middle;\n",
       "    }\n",
       "\n",
       "    .dataframe tbody tr th {\n",
       "        vertical-align: top;\n",
       "    }\n",
       "\n",
       "    .dataframe thead th {\n",
       "        text-align: right;\n",
       "    }\n",
       "</style>\n",
       "<table border=\"1\" class=\"dataframe\">\n",
       "  <thead>\n",
       "    <tr style=\"text-align: right;\">\n",
       "      <th></th>\n",
       "      <th>feature</th>\n",
       "      <th>VIF</th>\n",
       "    </tr>\n",
       "  </thead>\n",
       "  <tbody>\n",
       "    <tr>\n",
       "      <th>0</th>\n",
       "      <td>CONSUMERCONFIDENCEINDEX</td>\n",
       "      <td>197121.367873</td>\n",
       "    </tr>\n",
       "    <tr>\n",
       "      <th>1</th>\n",
       "      <td>2YEARYIELD</td>\n",
       "      <td>65.751761</td>\n",
       "    </tr>\n",
       "    <tr>\n",
       "      <th>2</th>\n",
       "      <td>10YEARYIELD</td>\n",
       "      <td>130.280323</td>\n",
       "    </tr>\n",
       "    <tr>\n",
       "      <th>3</th>\n",
       "      <td>CONSUMERSENTIMENT</td>\n",
       "      <td>1493.948237</td>\n",
       "    </tr>\n",
       "    <tr>\n",
       "      <th>4</th>\n",
       "      <td>CORECPI</td>\n",
       "      <td>27780.326619</td>\n",
       "    </tr>\n",
       "    <tr>\n",
       "      <th>5</th>\n",
       "      <td>COREPCE</td>\n",
       "      <td>8527.636960</td>\n",
       "    </tr>\n",
       "    <tr>\n",
       "      <th>6</th>\n",
       "      <td>CPI</td>\n",
       "      <td>85.262433</td>\n",
       "    </tr>\n",
       "    <tr>\n",
       "      <th>7</th>\n",
       "      <td>GDP</td>\n",
       "      <td>7.108733</td>\n",
       "    </tr>\n",
       "    <tr>\n",
       "      <th>8</th>\n",
       "      <td>INTERESTRATE_MM</td>\n",
       "      <td>268.320667</td>\n",
       "    </tr>\n",
       "    <tr>\n",
       "      <th>9</th>\n",
       "      <td>LABORFORCE_FORECAST</td>\n",
       "      <td>38436.968662</td>\n",
       "    </tr>\n",
       "    <tr>\n",
       "      <th>10</th>\n",
       "      <td>MEDIANHOUSESALES</td>\n",
       "      <td>509.498348</td>\n",
       "    </tr>\n",
       "    <tr>\n",
       "      <th>11</th>\n",
       "      <td>MONTHLYHOUSESUPPLY</td>\n",
       "      <td>57.430654</td>\n",
       "    </tr>\n",
       "    <tr>\n",
       "      <th>12</th>\n",
       "      <td>UNEMPLOYMENTFORECAST</td>\n",
       "      <td>115349.086746</td>\n",
       "    </tr>\n",
       "    <tr>\n",
       "      <th>13</th>\n",
       "      <td>NON_FARM</td>\n",
       "      <td>35750.166000</td>\n",
       "    </tr>\n",
       "    <tr>\n",
       "      <th>14</th>\n",
       "      <td>REAL_GDP_FORECAST</td>\n",
       "      <td>1.728753</td>\n",
       "    </tr>\n",
       "    <tr>\n",
       "      <th>15</th>\n",
       "      <td>SHORTINTERESTRATE_FORECAST</td>\n",
       "      <td>272.895325</td>\n",
       "    </tr>\n",
       "    <tr>\n",
       "      <th>16</th>\n",
       "      <td>UNEMPLOYMENTRATE</td>\n",
       "      <td>45294.721005</td>\n",
       "    </tr>\n",
       "    <tr>\n",
       "      <th>17</th>\n",
       "      <td>CPI_FORECAST</td>\n",
       "      <td>100.919239</td>\n",
       "    </tr>\n",
       "  </tbody>\n",
       "</table>\n",
       "</div>"
      ],
      "text/plain": [
       "                       feature            VIF\n",
       "0      CONSUMERCONFIDENCEINDEX  197121.367873\n",
       "1                   2YEARYIELD      65.751761\n",
       "2                  10YEARYIELD     130.280323\n",
       "3            CONSUMERSENTIMENT    1493.948237\n",
       "4                      CORECPI   27780.326619\n",
       "5                      COREPCE    8527.636960\n",
       "6                          CPI      85.262433\n",
       "7                          GDP       7.108733\n",
       "8              INTERESTRATE_MM     268.320667\n",
       "9          LABORFORCE_FORECAST   38436.968662\n",
       "10            MEDIANHOUSESALES     509.498348\n",
       "11          MONTHLYHOUSESUPPLY      57.430654\n",
       "12        UNEMPLOYMENTFORECAST  115349.086746\n",
       "13                    NON_FARM   35750.166000\n",
       "14           REAL_GDP_FORECAST       1.728753\n",
       "15  SHORTINTERESTRATE_FORECAST     272.895325\n",
       "16            UNEMPLOYMENTRATE   45294.721005\n",
       "17                CPI_FORECAST     100.919239"
      ]
     },
     "execution_count": 9,
     "metadata": {},
     "output_type": "execute_result"
    }
   ],
   "source": [
    "X = df.iloc[:, :-2]\n",
    "Initial_X = X\n",
    "vifdata(X)"
   ]
  },
  {
   "cell_type": "code",
   "execution_count": 10,
   "id": "d08198f5",
   "metadata": {},
   "outputs": [
    {
     "name": "stdout",
     "output_type": "stream",
     "text": [
      "['10YEARYIELD', 'CPI', 'GDP', 'INTERESTRATE_MM', 'MEDIANHOUSESALES', 'REAL_GDP_FORECAST', 'S&P500']\n"
     ]
    }
   ],
   "source": [
    "# the independent variables set\n",
    "X = df.iloc[:, :-2]\n",
    "VIF = vifdata(X)\n",
    "features_list_old = VIF['feature'].tolist()\n",
    "features_list_old.append(index_to_predict)\n",
    "while VIF['VIF'].max() >= 11:\n",
    "    max_VIF = VIF['VIF'].idxmax()\n",
    "    feature_row = VIF.loc[max_VIF,'feature']\n",
    "    X = X.drop([feature_row],axis=1)\n",
    "    VIF = vifdata(X)\n",
    "features_list = VIF['feature'].tolist()\n",
    "features_list.append(index_to_predict)\n",
    "print(features_list)"
   ]
  },
  {
   "cell_type": "code",
   "execution_count": 11,
   "id": "2f93446b",
   "metadata": {},
   "outputs": [
    {
     "name": "stdout",
     "output_type": "stream",
     "text": [
      "            CONSUMERCONFIDENCEINDEX  2YEARYIELD  10YEARYIELD  \\\n",
      "date                                                           \n",
      "2000-01-31                102.83810        6.40         6.63   \n",
      "2000-02-29                102.89210        6.63         6.60   \n",
      "2000-03-31                102.80940        6.38         6.58   \n",
      "2000-04-30                102.79050        6.30         6.49   \n",
      "2000-05-31                102.76460        6.38         6.62   \n",
      "...                             ...         ...          ...   \n",
      "2022-02-28                 97.31078        1.16         1.78   \n",
      "2022-03-31                 97.07170        0.78         1.63   \n",
      "2022-04-30                 96.90445        0.77         1.66   \n",
      "2022-05-31                 96.49539        0.83         1.71   \n",
      "2022-06-30                 96.08616        0.88         1.73   \n",
      "\n",
      "            CONSUMERSENTIMENT     CORECPI  COREPCE       CPI       GDP  \\\n",
      "date                                                                     \n",
      "2000-01-31              112.0   73.809116   5733.3  2.738892  4.225956   \n",
      "2000-02-29              111.3   74.098078   5799.9  3.221884  4.225956   \n",
      "2000-03-31              107.1   74.510880   5845.4  3.757576  4.225956   \n",
      "2000-04-30              109.2   74.676002   5835.4  3.068592  5.244683   \n",
      "2000-05-31              110.7   74.676002   5860.8  3.188929  5.244683   \n",
      "...                       ...         ...      ...       ...       ...   \n",
      "2022-02-28               62.8  118.911522  14861.7  7.871064  3.683679   \n",
      "2022-03-31               59.4  119.425874  14976.0  8.542456  3.683679   \n",
      "2022-04-30               65.2  120.062003  15059.0  8.258630  1.796042   \n",
      "2022-05-31               58.4  120.747255  15141.5  8.581511  1.796042   \n",
      "2022-06-30               50.0  121.644688  15274.0  9.059758  1.796042   \n",
      "\n",
      "            INTERESTRATE_MM  LABORFORCE_FORECAST  MEDIANHOUSESALES  \\\n",
      "date                                                                 \n",
      "2000-01-31             5.95          142385666.7            165300   \n",
      "2000-02-29             6.01          142385666.7            165300   \n",
      "2000-03-31             6.14          142385666.7            165300   \n",
      "2000-04-30             6.28          142576666.7            163200   \n",
      "2000-05-31             6.71          142576666.7            163200   \n",
      "...                     ...                  ...               ...   \n",
      "2022-02-28             0.38          164029000.0            433100   \n",
      "2022-03-31             0.73          164029000.0            433100   \n",
      "2022-04-30             0.91          164148333.3            449300   \n",
      "2022-05-31             1.33          164148333.3            449300   \n",
      "2022-06-30             1.87          164148333.3            449300   \n",
      "\n",
      "            MONTHLYHOUSESUPPLY  UNEMPLOYMENTFORECAST  NON_FARM  \\\n",
      "date                                                             \n",
      "2000-01-31                 4.3              5.224948    131009   \n",
      "2000-02-29                 4.3              5.224948    131120   \n",
      "2000-03-31                 4.3              5.224948    131605   \n",
      "2000-04-30                 4.4              5.214622    131884   \n",
      "2000-05-31                 4.4              5.214622    132106   \n",
      "...                        ...                   ...       ...   \n",
      "2022-02-28                 6.0              4.445137    151010   \n",
      "2022-03-31                 7.0              4.445137    151424   \n",
      "2022-04-30                 8.4              4.440214    151678   \n",
      "2022-05-31                 8.3              4.440214    152042   \n",
      "2022-06-30                 9.4              4.440214    152412   \n",
      "\n",
      "            REAL_GDP_FORECAST  SHORTINTERESTRATE_FORECAST  UNEMPLOYMENTRATE  \\\n",
      "date                                                                          \n",
      "2000-01-31           1.465778                    6.033333          74.26526   \n",
      "2000-02-29           1.465778                    6.033333          74.28468   \n",
      "2000-03-31           1.465778                    6.033333          74.24421   \n",
      "2000-04-30           7.483628                    6.573333          74.50922   \n",
      "2000-05-31           7.483628                    6.573333          74.07902   \n",
      "...                       ...                         ...               ...   \n",
      "2022-02-28          -1.631278                    0.443333          70.88243   \n",
      "2022-03-31          -1.631278                    0.443333          71.30283   \n",
      "2022-04-30          -0.577282                    1.370000          71.25232   \n",
      "2022-05-31          -0.577282                    1.370000          71.37484   \n",
      "2022-06-30          -0.577282                    1.370000          71.24195   \n",
      "\n",
      "            CPI_FORECAST   S&P500  \n",
      "date                               \n",
      "2000-01-31      3.257790  1366.42  \n",
      "2000-02-29      3.257790  1498.58  \n",
      "2000-03-31      3.257790  1452.43  \n",
      "2000-04-30      3.293834  1420.60  \n",
      "2000-05-31      3.293834  1454.60  \n",
      "...                  ...      ...  \n",
      "2022-02-28      8.000390  4530.41  \n",
      "2022-03-31      8.000390  4131.93  \n",
      "2022-04-30      8.580631  4132.15  \n",
      "2022-05-31      8.580631  3785.38  \n",
      "2022-06-30      8.580631  4130.29  \n",
      "\n",
      "[270 rows x 19 columns]\n"
     ]
    }
   ],
   "source": [
    "df_new = df[features_list]\n",
    "df_old = df[features_list_old]\n",
    "df_old.drop(columns = [index_to_predict], axis = 1)\n",
    "print(df_old)"
   ]
  },
  {
   "cell_type": "code",
   "execution_count": 12,
   "id": "404463ce",
   "metadata": {},
   "outputs": [
    {
     "name": "stdout",
     "output_type": "stream",
     "text": [
      "            CONSUMERCONFIDENCEINDEX  2YEARYIELD  10YEARYIELD  \\\n",
      "date                                                           \n",
      "2000-01-31                102.83810        6.40         6.63   \n",
      "2000-02-29                102.89210        6.63         6.60   \n",
      "2000-03-31                102.80940        6.38         6.58   \n",
      "2000-04-30                102.79050        6.30         6.49   \n",
      "2000-05-31                102.76460        6.38         6.62   \n",
      "...                             ...         ...          ...   \n",
      "2022-02-28                 97.31078        1.16         1.78   \n",
      "2022-03-31                 97.07170        0.78         1.63   \n",
      "2022-04-30                 96.90445        0.77         1.66   \n",
      "2022-05-31                 96.49539        0.83         1.71   \n",
      "2022-06-30                 96.08616        0.88         1.73   \n",
      "\n",
      "            CONSUMERSENTIMENT     CORECPI  COREPCE       CPI       GDP  \\\n",
      "date                                                                     \n",
      "2000-01-31              112.0   73.809116   5733.3  2.738892  4.225956   \n",
      "2000-02-29              111.3   74.098078   5799.9  3.221884  4.225956   \n",
      "2000-03-31              107.1   74.510880   5845.4  3.757576  4.225956   \n",
      "2000-04-30              109.2   74.676002   5835.4  3.068592  5.244683   \n",
      "2000-05-31              110.7   74.676002   5860.8  3.188929  5.244683   \n",
      "...                       ...         ...      ...       ...       ...   \n",
      "2022-02-28               62.8  118.911522  14861.7  7.871064  3.683679   \n",
      "2022-03-31               59.4  119.425874  14976.0  8.542456  3.683679   \n",
      "2022-04-30               65.2  120.062003  15059.0  8.258630  1.796042   \n",
      "2022-05-31               58.4  120.747255  15141.5  8.581511  1.796042   \n",
      "2022-06-30               50.0  121.644688  15274.0  9.059758  1.796042   \n",
      "\n",
      "            INTERESTRATE_MM  LABORFORCE_FORECAST  MEDIANHOUSESALES  \\\n",
      "date                                                                 \n",
      "2000-01-31             5.95          142385666.7            165300   \n",
      "2000-02-29             6.01          142385666.7            165300   \n",
      "2000-03-31             6.14          142385666.7            165300   \n",
      "2000-04-30             6.28          142576666.7            163200   \n",
      "2000-05-31             6.71          142576666.7            163200   \n",
      "...                     ...                  ...               ...   \n",
      "2022-02-28             0.38          164029000.0            433100   \n",
      "2022-03-31             0.73          164029000.0            433100   \n",
      "2022-04-30             0.91          164148333.3            449300   \n",
      "2022-05-31             1.33          164148333.3            449300   \n",
      "2022-06-30             1.87          164148333.3            449300   \n",
      "\n",
      "            MONTHLYHOUSESUPPLY  UNEMPLOYMENTFORECAST  NON_FARM  \\\n",
      "date                                                             \n",
      "2000-01-31                 4.3              5.224948    131009   \n",
      "2000-02-29                 4.3              5.224948    131120   \n",
      "2000-03-31                 4.3              5.224948    131605   \n",
      "2000-04-30                 4.4              5.214622    131884   \n",
      "2000-05-31                 4.4              5.214622    132106   \n",
      "...                        ...                   ...       ...   \n",
      "2022-02-28                 6.0              4.445137    151010   \n",
      "2022-03-31                 7.0              4.445137    151424   \n",
      "2022-04-30                 8.4              4.440214    151678   \n",
      "2022-05-31                 8.3              4.440214    152042   \n",
      "2022-06-30                 9.4              4.440214    152412   \n",
      "\n",
      "            REAL_GDP_FORECAST  SHORTINTERESTRATE_FORECAST  UNEMPLOYMENTRATE  \\\n",
      "date                                                                          \n",
      "2000-01-31           1.465778                    6.033333          74.26526   \n",
      "2000-02-29           1.465778                    6.033333          74.28468   \n",
      "2000-03-31           1.465778                    6.033333          74.24421   \n",
      "2000-04-30           7.483628                    6.573333          74.50922   \n",
      "2000-05-31           7.483628                    6.573333          74.07902   \n",
      "...                       ...                         ...               ...   \n",
      "2022-02-28          -1.631278                    0.443333          70.88243   \n",
      "2022-03-31          -1.631278                    0.443333          71.30283   \n",
      "2022-04-30          -0.577282                    1.370000          71.25232   \n",
      "2022-05-31          -0.577282                    1.370000          71.37484   \n",
      "2022-06-30          -0.577282                    1.370000          71.24195   \n",
      "\n",
      "            CPI_FORECAST   S&P500  \n",
      "date                               \n",
      "2000-01-31      3.257790  1366.42  \n",
      "2000-02-29      3.257790  1498.58  \n",
      "2000-03-31      3.257790  1452.43  \n",
      "2000-04-30      3.293834  1420.60  \n",
      "2000-05-31      3.293834  1454.60  \n",
      "...                  ...      ...  \n",
      "2022-02-28      8.000390  4530.41  \n",
      "2022-03-31      8.000390  4131.93  \n",
      "2022-04-30      8.580631  4132.15  \n",
      "2022-05-31      8.580631  3785.38  \n",
      "2022-06-30      8.580631  4130.29  \n",
      "\n",
      "[270 rows x 19 columns]\n"
     ]
    }
   ],
   "source": [
    "#df_z_scaled = df_new.copy()\n",
    "df_z_scaled = df_old.copy()\n",
    "print(df_z_scaled)\n",
    "  \n",
    "#apply normalization techniques\n",
    "for column in df_z_scaled.columns:\n",
    "    df_z_scaled[column] = (df_z_scaled[column] -\n",
    "                           df_z_scaled[column].mean()) / df_z_scaled[column].std()    \n",
    "    "
   ]
  },
  {
   "cell_type": "code",
   "execution_count": 13,
   "id": "da4ce51e",
   "metadata": {},
   "outputs": [
    {
     "name": "stdout",
     "output_type": "stream",
     "text": [
      "CONSUMERCONFIDENCEINDEX: 0.0021761215265254964\n",
      "2YEARYIELD: 0.0035749223068542303\n",
      "10YEARYIELD: 0.005979872364942626\n",
      "CONSUMERSENTIMENT: 0.0018658461250474156\n",
      "CORECPI: 0.22359881169552656\n",
      "COREPCE: 0.12405048994535597\n",
      "CPI: 0.0021436692743937668\n",
      "GDP: 0.004983925939290526\n",
      "INTERESTRATE_MM: 0.0022638781356898465\n",
      "LABORFORCE_FORECAST: 0.00303134015851203\n",
      "MEDIANHOUSESALES: 0.3432955988342818\n",
      "MONTHLYHOUSESUPPLY: 0.0027761653571117656\n",
      "UNEMPLOYMENTFORECAST: 0.2667262400828789\n",
      "NON_FARM: 0.0028792357596794564\n",
      "REAL_GDP_FORECAST: 0.0012693660106575604\n",
      "SHORTINTERESTRATE_FORECAST: 0.0023400625632540206\n",
      "UNEMPLOYMENTRATE: 0.0017897795224524756\n",
      "CPI_FORECAST: 0.005254674397545564\n",
      "Shape of training data: (216, 18)\n",
      "Shape of the training target data: (216, 1)\n",
      "Shape of test data: (54, 18)\n",
      "Shape of the test target data: (54, 1)\n",
      "0.9830771840922684\n",
      "0.9830771840922684\n",
      "LR Intercept: \n",
      " [0.00470121]\n",
      "MSE:  0.016774367722939193\n",
      "RMSE:  0.008387183861469596\n",
      "r2 score for Linear Regression model is 0.9830771840922684\n",
      "R-squared: 0.9982539521292788\n",
      "MSE:  0.005390120496027545\n",
      "RMSE:  0.0026950602480137727\n",
      "r2 score for Random Forest model is 0.9945621785344537\n"
     ]
    },
    {
     "data": {
      "image/png": "[encoded data removed]",
      "text/plain": [
       "<Figure size 432x432 with 2 Axes>"
      ]
     },
     "metadata": {
      "needs_background": "light"
     },
     "output_type": "display_data"
    },
    {
     "data": {
      "image/png": "[encoded data removed]",
      "text/plain": [
       "<Figure size 360x360 with 1 Axes>"
      ]
     },
     "metadata": {
      "needs_background": "light"
     },
     "output_type": "display_data"
    }
   ],
   "source": [
    "features = df_z_scaled.drop(columns = [index_to_predict], axis = 1)\n",
    "labels = df_z_scaled[[index_to_predict]]\n",
    "X_train, X_test, y_train, y_test = train_test_split(features, labels, test_size = 0.2, random_state = 0)\n",
    "\n",
    "correlation_matrix(df_new)\n",
    "importance_random_forest(X_train,y_train)\n",
    "print(f\"Shape of training data: {X_train.shape}\")\n",
    "print(f\"Shape of the training target data: {y_train.shape}\")\n",
    "\n",
    "print(f\"Shape of test data: {X_test.shape}\")\n",
    "print(f\"Shape of the test target data: {y_test.shape}\")\n",
    "\n",
    "regr = LinearRegression()\n",
    "  \n",
    "regr.fit(X_train, y_train)\n",
    "print(regr.score(X_test, y_test))\n",
    "\n",
    "regr = LinearRegression()\n",
    "  \n",
    "regr.fit(X_train, y_train)\n",
    "print(regr.score(X_test, y_test))\n",
    "\n",
    "coefficients = pd.concat([pd.DataFrame(X.columns),pd.DataFrame(np.transpose(regr.coef_))], axis = 1)\n",
    "coefficients\n",
    "\n",
    "print('LR Intercept: \\n', regr.intercept_)\n",
    "\n",
    "y_pred = regr.predict(X_test)\n",
    "mse = mean_squared_error(y_test, y_pred)\n",
    "print(\"MSE: \", mse)\n",
    "print(\"RMSE: \", mse*(1/2.0)) \n",
    "\n",
    "r2 = r2_score(y_test, y_pred)\n",
    "print('r2 score for Linear Regression model is', r2)\n",
    "\n",
    "\n",
    "rfr = RandomForestRegressor()\n",
    "\n",
    "rfr.fit(X_train, y_train)\n",
    "\n",
    "score = rfr.score(X_train, y_train)\n",
    "print(\"R-squared:\", score)\n",
    "\n",
    "ypred = rfr.predict(X_test)\n",
    "\n",
    "mse = mean_squared_error(y_test, ypred)\n",
    "print(\"MSE: \", mse)\n",
    "print(\"RMSE: \", mse*(1/2.0)) \n",
    "\n",
    "r2 = r2_score(y_test, ypred)\n",
    "print('r2 score for Random Forest model is', r2)\n",
    "\n",
    "plt.figure(figsize=(5,5))\n",
    "plt.scatter(y_test[index_to_predict].values, ypred, c='crimson')\n",
    "\n",
    "\n",
    "p1 = max(max(ypred), max(y_test[index_to_predict].values))\n",
    "p2 = min(min(ypred), min(y_test[index_to_predict].values))\n",
    "plt.plot([p1, p2], [p1, p2], 'b-')\n",
    "plt.xlabel('True Values', fontsize=15)\n",
    "plt.ylabel('Predictions', fontsize=15)\n",
    "plt.axis('equal')\n",
    "plt.show()\n",
    "\n"
   ]
  },
  {
   "cell_type": "code",
   "execution_count": 14,
   "id": "4efaff0b",
   "metadata": {},
   "outputs": [],
   "source": [
    "prices_df = pd.read_excel(PRICE_XL_PATH, sheet_name=PRICE_XL_SHEET_NAME)\n",
    "prices_df = prices_df.set_index(\"Date_Work\").sort_index()\n",
    "prices_df = prices_df[[col for col in prices_df.columns if \"Index\" in col]].ffill()\n",
    "prices_df.index = prices_df.index.to_period(\"M\").to_timestamp(\"M\")"
   ]
  },
  {
   "cell_type": "code",
   "execution_count": 15,
   "id": "87829104",
   "metadata": {},
   "outputs": [],
   "source": [
    "df_z_scaled.to_csv('macro.csv')\n",
    "#macro_df = pd.read_csv(MACRO_CSV_PATH, index_col=0)\n",
    "macro_df = pd.read_csv('macro.csv', index_col=0)\n",
    "macro_df.index = pd.to_datetime(macro_df.index)\n",
    "macro_df.index = macro_df.index.to_period(\"M\").to_timestamp(\"M\")"
   ]
  },
  {
   "cell_type": "code",
   "execution_count": 16,
   "id": "68feb116",
   "metadata": {},
   "outputs": [],
   "source": [
    "# Exclude those too far back with NAs\n",
    "#prices_df = prices_df.loc[:, (prices_df.isna().sum() < 30)].dropna(axis=0)\n",
    "prices_df = prices_df.loc[:, (prices_df.isna().sum() < 30)].fillna(method='ffill')\n",
    "macro_df  = macro_df.loc[prices_df.index[0] : prices_df.index[-1]]\n",
    "prices_df = prices_df.loc[macro_df.index[0] : macro_df.index[-1]]\n",
    "\n",
    "#df_old = df_old.loc[prices_df.index[0] : prices_df.index[-1]]\n",
    "#prices_df = prices_df.loc[df_old.index[0] : df_old.index[-1]]"
   ]
  },
  {
   "cell_type": "code",
   "execution_count": 17,
   "id": "235b1d9e",
   "metadata": {},
   "outputs": [
    {
     "data": {
      "text/plain": [
       "(set(), set())"
      ]
     },
     "execution_count": 17,
     "metadata": {},
     "output_type": "execute_result"
    }
   ],
   "source": [
    "# Sanity check\n",
    "set(prices_df.index) - set(macro_df.index), set(macro_df.index) - set(prices_df.index)"
   ]
  },
  {
   "cell_type": "code",
   "execution_count": 18,
   "id": "40bda797",
   "metadata": {},
   "outputs": [
    {
     "data": {
      "text/html": [
       "<div>\n",
       "<style scoped>\n",
       "    .dataframe tbody tr th:only-of-type {\n",
       "        vertical-align: middle;\n",
       "    }\n",
       "\n",
       "    .dataframe tbody tr th {\n",
       "        vertical-align: top;\n",
       "    }\n",
       "\n",
       "    .dataframe thead th {\n",
       "        text-align: right;\n",
       "    }\n",
       "</style>\n",
       "<table border=\"1\" class=\"dataframe\">\n",
       "  <thead>\n",
       "    <tr style=\"text-align: right;\">\n",
       "      <th></th>\n",
       "      <th>CONSUMERCONFIDENCEINDEX</th>\n",
       "      <th>2YEARYIELD</th>\n",
       "      <th>10YEARYIELD</th>\n",
       "      <th>CONSUMERSENTIMENT</th>\n",
       "      <th>CORECPI</th>\n",
       "      <th>COREPCE</th>\n",
       "      <th>CPI</th>\n",
       "      <th>GDP</th>\n",
       "      <th>INTERESTRATE_MM</th>\n",
       "      <th>LABORFORCE_FORECAST</th>\n",
       "      <th>MEDIANHOUSESALES</th>\n",
       "      <th>MONTHLYHOUSESUPPLY</th>\n",
       "      <th>UNEMPLOYMENTFORECAST</th>\n",
       "      <th>NON_FARM</th>\n",
       "      <th>REAL_GDP_FORECAST</th>\n",
       "      <th>SHORTINTERESTRATE_FORECAST</th>\n",
       "      <th>UNEMPLOYMENTRATE</th>\n",
       "      <th>CPI_FORECAST</th>\n",
       "      <th>S&amp;P500</th>\n",
       "    </tr>\n",
       "    <tr>\n",
       "      <th>date</th>\n",
       "      <th></th>\n",
       "      <th></th>\n",
       "      <th></th>\n",
       "      <th></th>\n",
       "      <th></th>\n",
       "      <th></th>\n",
       "      <th></th>\n",
       "      <th></th>\n",
       "      <th></th>\n",
       "      <th></th>\n",
       "      <th></th>\n",
       "      <th></th>\n",
       "      <th></th>\n",
       "      <th></th>\n",
       "      <th></th>\n",
       "      <th></th>\n",
       "      <th></th>\n",
       "      <th></th>\n",
       "      <th></th>\n",
       "    </tr>\n",
       "  </thead>\n",
       "  <tbody>\n",
       "    <tr>\n",
       "      <th>2000-01-31</th>\n",
       "      <td>2.046929</td>\n",
       "      <td>2.505169</td>\n",
       "      <td>2.431852</td>\n",
       "      <td>2.180241</td>\n",
       "      <td>-1.657493</td>\n",
       "      <td>-1.585509</td>\n",
       "      <td>0.220091</td>\n",
       "      <td>0.943047</td>\n",
       "      <td>2.191634</td>\n",
       "      <td>-1.910845</td>\n",
       "      <td>-1.488111</td>\n",
       "      <td>-0.791808</td>\n",
       "      <td>1.826425</td>\n",
       "      <td>-1.003428</td>\n",
       "      <td>-0.115980</td>\n",
       "      <td>2.245813</td>\n",
       "      <td>1.885326</td>\n",
       "      <td>0.553687</td>\n",
       "      <td>-0.505204</td>\n",
       "    </tr>\n",
       "    <tr>\n",
       "      <th>2000-02-29</th>\n",
       "      <td>2.083539</td>\n",
       "      <td>2.637540</td>\n",
       "      <td>2.409904</td>\n",
       "      <td>2.124401</td>\n",
       "      <td>-1.633270</td>\n",
       "      <td>-1.557826</td>\n",
       "      <td>0.515687</td>\n",
       "      <td>0.943047</td>\n",
       "      <td>2.223427</td>\n",
       "      <td>-1.910845</td>\n",
       "      <td>-1.488111</td>\n",
       "      <td>-0.791808</td>\n",
       "      <td>1.826425</td>\n",
       "      <td>-0.987201</td>\n",
       "      <td>-0.115980</td>\n",
       "      <td>2.245813</td>\n",
       "      <td>1.893769</td>\n",
       "      <td>0.553687</td>\n",
       "      <td>-0.364275</td>\n",
       "    </tr>\n",
       "    <tr>\n",
       "      <th>2000-03-31</th>\n",
       "      <td>2.027471</td>\n",
       "      <td>2.493659</td>\n",
       "      <td>2.395272</td>\n",
       "      <td>1.789361</td>\n",
       "      <td>-1.598666</td>\n",
       "      <td>-1.538913</td>\n",
       "      <td>0.843535</td>\n",
       "      <td>0.943047</td>\n",
       "      <td>2.292311</td>\n",
       "      <td>-1.910845</td>\n",
       "      <td>-1.488111</td>\n",
       "      <td>-0.791808</td>\n",
       "      <td>1.826425</td>\n",
       "      <td>-0.916297</td>\n",
       "      <td>-0.115980</td>\n",
       "      <td>2.245813</td>\n",
       "      <td>1.876175</td>\n",
       "      <td>0.553687</td>\n",
       "      <td>-0.413487</td>\n",
       "    </tr>\n",
       "    <tr>\n",
       "      <th>2000-04-30</th>\n",
       "      <td>2.014657</td>\n",
       "      <td>2.447617</td>\n",
       "      <td>2.329427</td>\n",
       "      <td>1.956881</td>\n",
       "      <td>-1.584825</td>\n",
       "      <td>-1.543069</td>\n",
       "      <td>0.421870</td>\n",
       "      <td>1.387431</td>\n",
       "      <td>2.366495</td>\n",
       "      <td>-1.879715</td>\n",
       "      <td>-1.520758</td>\n",
       "      <td>-0.738903</td>\n",
       "      <td>1.780219</td>\n",
       "      <td>-0.875509</td>\n",
       "      <td>0.986269</td>\n",
       "      <td>2.533205</td>\n",
       "      <td>1.991384</td>\n",
       "      <td>0.576374</td>\n",
       "      <td>-0.447429</td>\n",
       "    </tr>\n",
       "    <tr>\n",
       "      <th>2000-05-31</th>\n",
       "      <td>1.997098</td>\n",
       "      <td>2.493659</td>\n",
       "      <td>2.424536</td>\n",
       "      <td>2.076538</td>\n",
       "      <td>-1.584825</td>\n",
       "      <td>-1.532511</td>\n",
       "      <td>0.495518</td>\n",
       "      <td>1.387431</td>\n",
       "      <td>2.594344</td>\n",
       "      <td>-1.879715</td>\n",
       "      <td>-1.520758</td>\n",
       "      <td>-0.738903</td>\n",
       "      <td>1.780219</td>\n",
       "      <td>-0.843054</td>\n",
       "      <td>0.986269</td>\n",
       "      <td>2.533205</td>\n",
       "      <td>1.804362</td>\n",
       "      <td>0.576374</td>\n",
       "      <td>-0.411173</td>\n",
       "    </tr>\n",
       "    <tr>\n",
       "      <th>...</th>\n",
       "      <td>...</td>\n",
       "      <td>...</td>\n",
       "      <td>...</td>\n",
       "      <td>...</td>\n",
       "      <td>...</td>\n",
       "      <td>...</td>\n",
       "      <td>...</td>\n",
       "      <td>...</td>\n",
       "      <td>...</td>\n",
       "      <td>...</td>\n",
       "      <td>...</td>\n",
       "      <td>...</td>\n",
       "      <td>...</td>\n",
       "      <td>...</td>\n",
       "      <td>...</td>\n",
       "      <td>...</td>\n",
       "      <td>...</td>\n",
       "      <td>...</td>\n",
       "      <td>...</td>\n",
       "    </tr>\n",
       "    <tr>\n",
       "      <th>2022-02-28</th>\n",
       "      <td>-1.700404</td>\n",
       "      <td>-0.510575</td>\n",
       "      <td>-1.116428</td>\n",
       "      <td>-1.744512</td>\n",
       "      <td>2.123293</td>\n",
       "      <td>2.208916</td>\n",
       "      <td>3.361030</td>\n",
       "      <td>0.706498</td>\n",
       "      <td>-0.759812</td>\n",
       "      <td>1.616631</td>\n",
       "      <td>2.675193</td>\n",
       "      <td>0.107573</td>\n",
       "      <td>-1.663053</td>\n",
       "      <td>1.920576</td>\n",
       "      <td>-0.683247</td>\n",
       "      <td>-0.729223</td>\n",
       "      <td>0.414697</td>\n",
       "      <td>3.538835</td>\n",
       "      <td>2.868732</td>\n",
       "    </tr>\n",
       "    <tr>\n",
       "      <th>2022-03-31</th>\n",
       "      <td>-1.862493</td>\n",
       "      <td>-0.729274</td>\n",
       "      <td>-1.226168</td>\n",
       "      <td>-2.015734</td>\n",
       "      <td>2.166409</td>\n",
       "      <td>2.256427</td>\n",
       "      <td>3.771929</td>\n",
       "      <td>0.706498</td>\n",
       "      <td>-0.574353</td>\n",
       "      <td>1.616631</td>\n",
       "      <td>2.675193</td>\n",
       "      <td>0.636621</td>\n",
       "      <td>-1.663053</td>\n",
       "      <td>1.981100</td>\n",
       "      <td>-0.683247</td>\n",
       "      <td>-0.729223</td>\n",
       "      <td>0.597459</td>\n",
       "      <td>3.538835</td>\n",
       "      <td>2.443811</td>\n",
       "    </tr>\n",
       "    <tr>\n",
       "      <th>2022-04-30</th>\n",
       "      <td>-1.975882</td>\n",
       "      <td>-0.735029</td>\n",
       "      <td>-1.204220</td>\n",
       "      <td>-1.553060</td>\n",
       "      <td>2.219734</td>\n",
       "      <td>2.290928</td>\n",
       "      <td>3.598224</td>\n",
       "      <td>-0.116918</td>\n",
       "      <td>-0.478975</td>\n",
       "      <td>1.636080</td>\n",
       "      <td>2.927044</td>\n",
       "      <td>1.377287</td>\n",
       "      <td>-1.685082</td>\n",
       "      <td>2.018233</td>\n",
       "      <td>-0.490193</td>\n",
       "      <td>-0.236045</td>\n",
       "      <td>0.575501</td>\n",
       "      <td>3.904059</td>\n",
       "      <td>2.444045</td>\n",
       "    </tr>\n",
       "    <tr>\n",
       "      <th>2022-05-31</th>\n",
       "      <td>-2.253211</td>\n",
       "      <td>-0.700498</td>\n",
       "      <td>-1.167640</td>\n",
       "      <td>-2.095506</td>\n",
       "      <td>2.277176</td>\n",
       "      <td>2.325221</td>\n",
       "      <td>3.795831</td>\n",
       "      <td>-0.116918</td>\n",
       "      <td>-0.256424</td>\n",
       "      <td>1.636080</td>\n",
       "      <td>2.927044</td>\n",
       "      <td>1.324383</td>\n",
       "      <td>-1.685082</td>\n",
       "      <td>2.071447</td>\n",
       "      <td>-0.490193</td>\n",
       "      <td>-0.236045</td>\n",
       "      <td>0.628764</td>\n",
       "      <td>3.904059</td>\n",
       "      <td>2.074265</td>\n",
       "    </tr>\n",
       "    <tr>\n",
       "      <th>2022-06-30</th>\n",
       "      <td>-2.530655</td>\n",
       "      <td>-0.671721</td>\n",
       "      <td>-1.153008</td>\n",
       "      <td>-2.765586</td>\n",
       "      <td>2.352405</td>\n",
       "      <td>2.380298</td>\n",
       "      <td>4.088522</td>\n",
       "      <td>-0.116918</td>\n",
       "      <td>0.029713</td>\n",
       "      <td>1.636080</td>\n",
       "      <td>2.927044</td>\n",
       "      <td>1.906335</td>\n",
       "      <td>-1.685082</td>\n",
       "      <td>2.125539</td>\n",
       "      <td>-0.490193</td>\n",
       "      <td>-0.236045</td>\n",
       "      <td>0.570993</td>\n",
       "      <td>3.904059</td>\n",
       "      <td>2.442062</td>\n",
       "    </tr>\n",
       "  </tbody>\n",
       "</table>\n",
       "<p>270 rows × 19 columns</p>\n",
       "</div>"
      ],
      "text/plain": [
       "            CONSUMERCONFIDENCEINDEX  2YEARYIELD  10YEARYIELD  \\\n",
       "date                                                           \n",
       "2000-01-31                 2.046929    2.505169     2.431852   \n",
       "2000-02-29                 2.083539    2.637540     2.409904   \n",
       "2000-03-31                 2.027471    2.493659     2.395272   \n",
       "2000-04-30                 2.014657    2.447617     2.329427   \n",
       "2000-05-31                 1.997098    2.493659     2.424536   \n",
       "...                             ...         ...          ...   \n",
       "2022-02-28                -1.700404   -0.510575    -1.116428   \n",
       "2022-03-31                -1.862493   -0.729274    -1.226168   \n",
       "2022-04-30                -1.975882   -0.735029    -1.204220   \n",
       "2022-05-31                -2.253211   -0.700498    -1.167640   \n",
       "2022-06-30                -2.530655   -0.671721    -1.153008   \n",
       "\n",
       "            CONSUMERSENTIMENT   CORECPI   COREPCE       CPI       GDP  \\\n",
       "date                                                                    \n",
       "2000-01-31           2.180241 -1.657493 -1.585509  0.220091  0.943047   \n",
       "2000-02-29           2.124401 -1.633270 -1.557826  0.515687  0.943047   \n",
       "2000-03-31           1.789361 -1.598666 -1.538913  0.843535  0.943047   \n",
       "2000-04-30           1.956881 -1.584825 -1.543069  0.421870  1.387431   \n",
       "2000-05-31           2.076538 -1.584825 -1.532511  0.495518  1.387431   \n",
       "...                       ...       ...       ...       ...       ...   \n",
       "2022-02-28          -1.744512  2.123293  2.208916  3.361030  0.706498   \n",
       "2022-03-31          -2.015734  2.166409  2.256427  3.771929  0.706498   \n",
       "2022-04-30          -1.553060  2.219734  2.290928  3.598224 -0.116918   \n",
       "2022-05-31          -2.095506  2.277176  2.325221  3.795831 -0.116918   \n",
       "2022-06-30          -2.765586  2.352405  2.380298  4.088522 -0.116918   \n",
       "\n",
       "            INTERESTRATE_MM  LABORFORCE_FORECAST  MEDIANHOUSESALES  \\\n",
       "date                                                                 \n",
       "2000-01-31         2.191634            -1.910845         -1.488111   \n",
       "2000-02-29         2.223427            -1.910845         -1.488111   \n",
       "2000-03-31         2.292311            -1.910845         -1.488111   \n",
       "2000-04-30         2.366495            -1.879715         -1.520758   \n",
       "2000-05-31         2.594344            -1.879715         -1.520758   \n",
       "...                     ...                  ...               ...   \n",
       "2022-02-28        -0.759812             1.616631          2.675193   \n",
       "2022-03-31        -0.574353             1.616631          2.675193   \n",
       "2022-04-30        -0.478975             1.636080          2.927044   \n",
       "2022-05-31        -0.256424             1.636080          2.927044   \n",
       "2022-06-30         0.029713             1.636080          2.927044   \n",
       "\n",
       "            MONTHLYHOUSESUPPLY  UNEMPLOYMENTFORECAST  NON_FARM  \\\n",
       "date                                                             \n",
       "2000-01-31           -0.791808              1.826425 -1.003428   \n",
       "2000-02-29           -0.791808              1.826425 -0.987201   \n",
       "2000-03-31           -0.791808              1.826425 -0.916297   \n",
       "2000-04-30           -0.738903              1.780219 -0.875509   \n",
       "2000-05-31           -0.738903              1.780219 -0.843054   \n",
       "...                        ...                   ...       ...   \n",
       "2022-02-28            0.107573             -1.663053  1.920576   \n",
       "2022-03-31            0.636621             -1.663053  1.981100   \n",
       "2022-04-30            1.377287             -1.685082  2.018233   \n",
       "2022-05-31            1.324383             -1.685082  2.071447   \n",
       "2022-06-30            1.906335             -1.685082  2.125539   \n",
       "\n",
       "            REAL_GDP_FORECAST  SHORTINTERESTRATE_FORECAST  UNEMPLOYMENTRATE  \\\n",
       "date                                                                          \n",
       "2000-01-31          -0.115980                    2.245813          1.885326   \n",
       "2000-02-29          -0.115980                    2.245813          1.893769   \n",
       "2000-03-31          -0.115980                    2.245813          1.876175   \n",
       "2000-04-30           0.986269                    2.533205          1.991384   \n",
       "2000-05-31           0.986269                    2.533205          1.804362   \n",
       "...                       ...                         ...               ...   \n",
       "2022-02-28          -0.683247                   -0.729223          0.414697   \n",
       "2022-03-31          -0.683247                   -0.729223          0.597459   \n",
       "2022-04-30          -0.490193                   -0.236045          0.575501   \n",
       "2022-05-31          -0.490193                   -0.236045          0.628764   \n",
       "2022-06-30          -0.490193                   -0.236045          0.570993   \n",
       "\n",
       "            CPI_FORECAST    S&P500  \n",
       "date                                \n",
       "2000-01-31      0.553687 -0.505204  \n",
       "2000-02-29      0.553687 -0.364275  \n",
       "2000-03-31      0.553687 -0.413487  \n",
       "2000-04-30      0.576374 -0.447429  \n",
       "2000-05-31      0.576374 -0.411173  \n",
       "...                  ...       ...  \n",
       "2022-02-28      3.538835  2.868732  \n",
       "2022-03-31      3.538835  2.443811  \n",
       "2022-04-30      3.904059  2.444045  \n",
       "2022-05-31      3.904059  2.074265  \n",
       "2022-06-30      3.904059  2.442062  \n",
       "\n",
       "[270 rows x 19 columns]"
      ]
     },
     "execution_count": 18,
     "metadata": {},
     "output_type": "execute_result"
    }
   ],
   "source": [
    "macro_df"
   ]
  },
  {
   "cell_type": "code",
   "execution_count": 19,
   "id": "7d341924",
   "metadata": {},
   "outputs": [
    {
     "data": {
      "text/html": [
       "<div>\n",
       "<style scoped>\n",
       "    .dataframe tbody tr th:only-of-type {\n",
       "        vertical-align: middle;\n",
       "    }\n",
       "\n",
       "    .dataframe tbody tr th {\n",
       "        vertical-align: top;\n",
       "    }\n",
       "\n",
       "    .dataframe thead th {\n",
       "        text-align: right;\n",
       "    }\n",
       "</style>\n",
       "<table border=\"1\" class=\"dataframe\">\n",
       "  <thead>\n",
       "    <tr style=\"text-align: right;\">\n",
       "      <th></th>\n",
       "      <th>CONSUMERCONFIDENCEINDEX</th>\n",
       "      <th>2YEARYIELD</th>\n",
       "      <th>10YEARYIELD</th>\n",
       "      <th>CONSUMERSENTIMENT</th>\n",
       "      <th>CORECPI</th>\n",
       "      <th>COREPCE</th>\n",
       "      <th>CPI</th>\n",
       "      <th>GDP</th>\n",
       "      <th>INTERESTRATE_MM</th>\n",
       "      <th>LABORFORCE_FORECAST</th>\n",
       "      <th>MEDIANHOUSESALES</th>\n",
       "      <th>MONTHLYHOUSESUPPLY</th>\n",
       "      <th>UNEMPLOYMENTFORECAST</th>\n",
       "      <th>NON_FARM</th>\n",
       "      <th>REAL_GDP_FORECAST</th>\n",
       "      <th>SHORTINTERESTRATE_FORECAST</th>\n",
       "      <th>UNEMPLOYMENTRATE</th>\n",
       "      <th>CPI_FORECAST</th>\n",
       "      <th>S&amp;P500</th>\n",
       "    </tr>\n",
       "    <tr>\n",
       "      <th>date</th>\n",
       "      <th></th>\n",
       "      <th></th>\n",
       "      <th></th>\n",
       "      <th></th>\n",
       "      <th></th>\n",
       "      <th></th>\n",
       "      <th></th>\n",
       "      <th></th>\n",
       "      <th></th>\n",
       "      <th></th>\n",
       "      <th></th>\n",
       "      <th></th>\n",
       "      <th></th>\n",
       "      <th></th>\n",
       "      <th></th>\n",
       "      <th></th>\n",
       "      <th></th>\n",
       "      <th></th>\n",
       "      <th></th>\n",
       "    </tr>\n",
       "  </thead>\n",
       "  <tbody>\n",
       "    <tr>\n",
       "      <th>2000-01-31</th>\n",
       "      <td>2.046929</td>\n",
       "      <td>2.505169</td>\n",
       "      <td>2.431852</td>\n",
       "      <td>2.180241</td>\n",
       "      <td>-1.657493</td>\n",
       "      <td>-1.585509</td>\n",
       "      <td>0.220091</td>\n",
       "      <td>0.943047</td>\n",
       "      <td>2.191634</td>\n",
       "      <td>-1.910845</td>\n",
       "      <td>-1.488111</td>\n",
       "      <td>-0.791808</td>\n",
       "      <td>1.826425</td>\n",
       "      <td>-1.003428</td>\n",
       "      <td>-0.115980</td>\n",
       "      <td>2.245813</td>\n",
       "      <td>1.885326</td>\n",
       "      <td>0.553687</td>\n",
       "      <td>-0.505204</td>\n",
       "    </tr>\n",
       "    <tr>\n",
       "      <th>2000-02-29</th>\n",
       "      <td>2.083539</td>\n",
       "      <td>2.637540</td>\n",
       "      <td>2.409904</td>\n",
       "      <td>2.124401</td>\n",
       "      <td>-1.633270</td>\n",
       "      <td>-1.557826</td>\n",
       "      <td>0.515687</td>\n",
       "      <td>0.943047</td>\n",
       "      <td>2.223427</td>\n",
       "      <td>-1.910845</td>\n",
       "      <td>-1.488111</td>\n",
       "      <td>-0.791808</td>\n",
       "      <td>1.826425</td>\n",
       "      <td>-0.987201</td>\n",
       "      <td>-0.115980</td>\n",
       "      <td>2.245813</td>\n",
       "      <td>1.893769</td>\n",
       "      <td>0.553687</td>\n",
       "      <td>-0.364275</td>\n",
       "    </tr>\n",
       "    <tr>\n",
       "      <th>2000-03-31</th>\n",
       "      <td>2.027471</td>\n",
       "      <td>2.493659</td>\n",
       "      <td>2.395272</td>\n",
       "      <td>1.789361</td>\n",
       "      <td>-1.598666</td>\n",
       "      <td>-1.538913</td>\n",
       "      <td>0.843535</td>\n",
       "      <td>0.943047</td>\n",
       "      <td>2.292311</td>\n",
       "      <td>-1.910845</td>\n",
       "      <td>-1.488111</td>\n",
       "      <td>-0.791808</td>\n",
       "      <td>1.826425</td>\n",
       "      <td>-0.916297</td>\n",
       "      <td>-0.115980</td>\n",
       "      <td>2.245813</td>\n",
       "      <td>1.876175</td>\n",
       "      <td>0.553687</td>\n",
       "      <td>-0.413487</td>\n",
       "    </tr>\n",
       "    <tr>\n",
       "      <th>2000-04-30</th>\n",
       "      <td>2.014657</td>\n",
       "      <td>2.447617</td>\n",
       "      <td>2.329427</td>\n",
       "      <td>1.956881</td>\n",
       "      <td>-1.584825</td>\n",
       "      <td>-1.543069</td>\n",
       "      <td>0.421870</td>\n",
       "      <td>1.387431</td>\n",
       "      <td>2.366495</td>\n",
       "      <td>-1.879715</td>\n",
       "      <td>-1.520758</td>\n",
       "      <td>-0.738903</td>\n",
       "      <td>1.780219</td>\n",
       "      <td>-0.875509</td>\n",
       "      <td>0.986269</td>\n",
       "      <td>2.533205</td>\n",
       "      <td>1.991384</td>\n",
       "      <td>0.576374</td>\n",
       "      <td>-0.447429</td>\n",
       "    </tr>\n",
       "    <tr>\n",
       "      <th>2000-05-31</th>\n",
       "      <td>1.997098</td>\n",
       "      <td>2.493659</td>\n",
       "      <td>2.424536</td>\n",
       "      <td>2.076538</td>\n",
       "      <td>-1.584825</td>\n",
       "      <td>-1.532511</td>\n",
       "      <td>0.495518</td>\n",
       "      <td>1.387431</td>\n",
       "      <td>2.594344</td>\n",
       "      <td>-1.879715</td>\n",
       "      <td>-1.520758</td>\n",
       "      <td>-0.738903</td>\n",
       "      <td>1.780219</td>\n",
       "      <td>-0.843054</td>\n",
       "      <td>0.986269</td>\n",
       "      <td>2.533205</td>\n",
       "      <td>1.804362</td>\n",
       "      <td>0.576374</td>\n",
       "      <td>-0.411173</td>\n",
       "    </tr>\n",
       "  </tbody>\n",
       "</table>\n",
       "</div>"
      ],
      "text/plain": [
       "            CONSUMERCONFIDENCEINDEX  2YEARYIELD  10YEARYIELD  \\\n",
       "date                                                           \n",
       "2000-01-31                 2.046929    2.505169     2.431852   \n",
       "2000-02-29                 2.083539    2.637540     2.409904   \n",
       "2000-03-31                 2.027471    2.493659     2.395272   \n",
       "2000-04-30                 2.014657    2.447617     2.329427   \n",
       "2000-05-31                 1.997098    2.493659     2.424536   \n",
       "\n",
       "            CONSUMERSENTIMENT   CORECPI   COREPCE       CPI       GDP  \\\n",
       "date                                                                    \n",
       "2000-01-31           2.180241 -1.657493 -1.585509  0.220091  0.943047   \n",
       "2000-02-29           2.124401 -1.633270 -1.557826  0.515687  0.943047   \n",
       "2000-03-31           1.789361 -1.598666 -1.538913  0.843535  0.943047   \n",
       "2000-04-30           1.956881 -1.584825 -1.543069  0.421870  1.387431   \n",
       "2000-05-31           2.076538 -1.584825 -1.532511  0.495518  1.387431   \n",
       "\n",
       "            INTERESTRATE_MM  LABORFORCE_FORECAST  MEDIANHOUSESALES  \\\n",
       "date                                                                 \n",
       "2000-01-31         2.191634            -1.910845         -1.488111   \n",
       "2000-02-29         2.223427            -1.910845         -1.488111   \n",
       "2000-03-31         2.292311            -1.910845         -1.488111   \n",
       "2000-04-30         2.366495            -1.879715         -1.520758   \n",
       "2000-05-31         2.594344            -1.879715         -1.520758   \n",
       "\n",
       "            MONTHLYHOUSESUPPLY  UNEMPLOYMENTFORECAST  NON_FARM  \\\n",
       "date                                                             \n",
       "2000-01-31           -0.791808              1.826425 -1.003428   \n",
       "2000-02-29           -0.791808              1.826425 -0.987201   \n",
       "2000-03-31           -0.791808              1.826425 -0.916297   \n",
       "2000-04-30           -0.738903              1.780219 -0.875509   \n",
       "2000-05-31           -0.738903              1.780219 -0.843054   \n",
       "\n",
       "            REAL_GDP_FORECAST  SHORTINTERESTRATE_FORECAST  UNEMPLOYMENTRATE  \\\n",
       "date                                                                          \n",
       "2000-01-31          -0.115980                    2.245813          1.885326   \n",
       "2000-02-29          -0.115980                    2.245813          1.893769   \n",
       "2000-03-31          -0.115980                    2.245813          1.876175   \n",
       "2000-04-30           0.986269                    2.533205          1.991384   \n",
       "2000-05-31           0.986269                    2.533205          1.804362   \n",
       "\n",
       "            CPI_FORECAST    S&P500  \n",
       "date                                \n",
       "2000-01-31      0.553687 -0.505204  \n",
       "2000-02-29      0.553687 -0.364275  \n",
       "2000-03-31      0.553687 -0.413487  \n",
       "2000-04-30      0.576374 -0.447429  \n",
       "2000-05-31      0.576374 -0.411173  "
      ]
     },
     "execution_count": 19,
     "metadata": {},
     "output_type": "execute_result"
    }
   ],
   "source": [
    "macro_df.head()"
   ]
  },
  {
   "cell_type": "code",
   "execution_count": 20,
   "id": "f1a440eb",
   "metadata": {
    "scrolled": true
   },
   "outputs": [
    {
     "data": {
      "text/html": [
       "<div>\n",
       "<style scoped>\n",
       "    .dataframe tbody tr th:only-of-type {\n",
       "        vertical-align: middle;\n",
       "    }\n",
       "\n",
       "    .dataframe tbody tr th {\n",
       "        vertical-align: top;\n",
       "    }\n",
       "\n",
       "    .dataframe thead th {\n",
       "        text-align: right;\n",
       "    }\n",
       "</style>\n",
       "<table border=\"1\" class=\"dataframe\">\n",
       "  <thead>\n",
       "    <tr style=\"text-align: right;\">\n",
       "      <th></th>\n",
       "      <th>CTRN Index</th>\n",
       "      <th>RTY Index</th>\n",
       "      <th>INDU Index</th>\n",
       "      <th>CBNK Index</th>\n",
       "      <th>NYA Index</th>\n",
       "      <th>CFIN Index</th>\n",
       "      <th>CINS Index</th>\n",
       "      <th>TRAN Index</th>\n",
       "      <th>CUTL Index</th>\n",
       "      <th>SPX Index</th>\n",
       "      <th>CCMP Index</th>\n",
       "      <th>UTIL Index</th>\n",
       "      <th>RIY Index</th>\n",
       "      <th>RAY Index</th>\n",
       "      <th>CIND Index</th>\n",
       "    </tr>\n",
       "    <tr>\n",
       "      <th>Date_Work</th>\n",
       "      <th></th>\n",
       "      <th></th>\n",
       "      <th></th>\n",
       "      <th></th>\n",
       "      <th></th>\n",
       "      <th></th>\n",
       "      <th></th>\n",
       "      <th></th>\n",
       "      <th></th>\n",
       "      <th></th>\n",
       "      <th></th>\n",
       "      <th></th>\n",
       "      <th></th>\n",
       "      <th></th>\n",
       "      <th></th>\n",
       "    </tr>\n",
       "  </thead>\n",
       "  <tbody>\n",
       "    <tr>\n",
       "      <th>2000-01-31</th>\n",
       "      <td>943.11</td>\n",
       "      <td>496.954</td>\n",
       "      <td>10940.54</td>\n",
       "      <td>1587.14</td>\n",
       "      <td>6574.01</td>\n",
       "      <td>3140.33</td>\n",
       "      <td>1769.67</td>\n",
       "      <td>2571.65</td>\n",
       "      <td>987.44</td>\n",
       "      <td>1394.46</td>\n",
       "      <td>3940.35</td>\n",
       "      <td>315.14</td>\n",
       "      <td>736.109</td>\n",
       "      <td>761.851</td>\n",
       "      <td>2199.76</td>\n",
       "    </tr>\n",
       "    <tr>\n",
       "      <th>2000-02-29</th>\n",
       "      <td>961.24</td>\n",
       "      <td>578.471</td>\n",
       "      <td>10128.31</td>\n",
       "      <td>1449.11</td>\n",
       "      <td>6266.42</td>\n",
       "      <td>3201.81</td>\n",
       "      <td>1725.53</td>\n",
       "      <td>2388.86</td>\n",
       "      <td>1141.10</td>\n",
       "      <td>1366.42</td>\n",
       "      <td>4696.69</td>\n",
       "      <td>288.48</td>\n",
       "      <td>733.239</td>\n",
       "      <td>767.986</td>\n",
       "      <td>2623.64</td>\n",
       "    </tr>\n",
       "    <tr>\n",
       "      <th>2000-03-31</th>\n",
       "      <td>1012.73</td>\n",
       "      <td>539.733</td>\n",
       "      <td>10921.93</td>\n",
       "      <td>1530.54</td>\n",
       "      <td>6848.61</td>\n",
       "      <td>3282.30</td>\n",
       "      <td>1928.43</td>\n",
       "      <td>2763.24</td>\n",
       "      <td>1102.01</td>\n",
       "      <td>1498.58</td>\n",
       "      <td>4572.83</td>\n",
       "      <td>291.77</td>\n",
       "      <td>799.208</td>\n",
       "      <td>827.275</td>\n",
       "      <td>2420.17</td>\n",
       "    </tr>\n",
       "    <tr>\n",
       "      <th>2000-04-30</th>\n",
       "      <td>1044.38</td>\n",
       "      <td>506.902</td>\n",
       "      <td>10733.92</td>\n",
       "      <td>1493.63</td>\n",
       "      <td>6811.17</td>\n",
       "      <td>2657.83</td>\n",
       "      <td>1841.37</td>\n",
       "      <td>2850.01</td>\n",
       "      <td>890.49</td>\n",
       "      <td>1452.43</td>\n",
       "      <td>3860.66</td>\n",
       "      <td>317.75</td>\n",
       "      <td>771.963</td>\n",
       "      <td>797.504</td>\n",
       "      <td>2120.92</td>\n",
       "    </tr>\n",
       "    <tr>\n",
       "      <th>2000-05-31</th>\n",
       "      <td>995.44</td>\n",
       "      <td>476.832</td>\n",
       "      <td>10522.34</td>\n",
       "      <td>1557.02</td>\n",
       "      <td>6805.25</td>\n",
       "      <td>2373.66</td>\n",
       "      <td>1844.90</td>\n",
       "      <td>2709.99</td>\n",
       "      <td>754.78</td>\n",
       "      <td>1420.6</td>\n",
       "      <td>3400.91</td>\n",
       "      <td>328.53</td>\n",
       "      <td>751.027</td>\n",
       "      <td>774.115</td>\n",
       "      <td>1849.51</td>\n",
       "    </tr>\n",
       "  </tbody>\n",
       "</table>\n",
       "</div>"
      ],
      "text/plain": [
       "            CTRN Index  RTY Index  INDU Index  CBNK Index  NYA Index  \\\n",
       "Date_Work                                                              \n",
       "2000-01-31      943.11    496.954    10940.54     1587.14    6574.01   \n",
       "2000-02-29      961.24    578.471    10128.31     1449.11    6266.42   \n",
       "2000-03-31     1012.73    539.733    10921.93     1530.54    6848.61   \n",
       "2000-04-30     1044.38    506.902    10733.92     1493.63    6811.17   \n",
       "2000-05-31      995.44    476.832    10522.34     1557.02    6805.25   \n",
       "\n",
       "            CFIN Index  CINS Index  TRAN Index  CUTL Index SPX Index  \\\n",
       "Date_Work                                                              \n",
       "2000-01-31     3140.33     1769.67     2571.65      987.44   1394.46   \n",
       "2000-02-29     3201.81     1725.53     2388.86     1141.10   1366.42   \n",
       "2000-03-31     3282.30     1928.43     2763.24     1102.01   1498.58   \n",
       "2000-04-30     2657.83     1841.37     2850.01      890.49   1452.43   \n",
       "2000-05-31     2373.66     1844.90     2709.99      754.78    1420.6   \n",
       "\n",
       "            CCMP Index  UTIL Index  RIY Index  RAY Index  CIND Index  \n",
       "Date_Work                                                             \n",
       "2000-01-31     3940.35      315.14    736.109    761.851     2199.76  \n",
       "2000-02-29     4696.69      288.48    733.239    767.986     2623.64  \n",
       "2000-03-31     4572.83      291.77    799.208    827.275     2420.17  \n",
       "2000-04-30     3860.66      317.75    771.963    797.504     2120.92  \n",
       "2000-05-31     3400.91      328.53    751.027    774.115     1849.51  "
      ]
     },
     "execution_count": 20,
     "metadata": {},
     "output_type": "execute_result"
    }
   ],
   "source": [
    "prices_df.head()"
   ]
  },
  {
   "cell_type": "code",
   "execution_count": 21,
   "id": "0fa47f69",
   "metadata": {},
   "outputs": [],
   "source": [
    "# <span style=\"font-size:larger;\">Features Importance</span>"
   ]
  },
  {
   "cell_type": "code",
   "execution_count": 22,
   "id": "2e86165b",
   "metadata": {},
   "outputs": [],
   "source": [
    "# Clean strings in numeric columns\n",
    "for col in prices_df.columns:\n",
    "    if prices_df[col].dtype != np.float64:\n",
    "        # Convert the column values to numeric type\n",
    "        prices_df[col] = pd.to_numeric(prices_df[col], errors='coerce')\n",
    "\n",
    "        # Replace values containing '#' with NaN\n",
    "        prices_df.loc[prices_df[col].isna(), col] = np.nan\n",
    "\n",
    "        # Forward fill the NaN values in the column\n",
    "        prices_df[col].ffill(inplace=True)"
   ]
  },
  {
   "cell_type": "code",
   "execution_count": 23,
   "id": "34314fd9",
   "metadata": {},
   "outputs": [
    {
     "data": {
      "text/html": [
       "<div>\n",
       "<style scoped>\n",
       "    .dataframe tbody tr th:only-of-type {\n",
       "        vertical-align: middle;\n",
       "    }\n",
       "\n",
       "    .dataframe tbody tr th {\n",
       "        vertical-align: top;\n",
       "    }\n",
       "\n",
       "    .dataframe thead th {\n",
       "        text-align: right;\n",
       "    }\n",
       "</style>\n",
       "<table border=\"1\" class=\"dataframe\">\n",
       "  <thead>\n",
       "    <tr style=\"text-align: right;\">\n",
       "      <th></th>\n",
       "      <th>CONSUMERCONFIDENCEINDEX</th>\n",
       "      <th>2YEARYIELD</th>\n",
       "      <th>10YEARYIELD</th>\n",
       "      <th>CONSUMERSENTIMENT</th>\n",
       "      <th>CORECPI</th>\n",
       "      <th>COREPCE</th>\n",
       "      <th>CPI</th>\n",
       "      <th>GDP</th>\n",
       "      <th>INTERESTRATE_MM</th>\n",
       "      <th>LABORFORCE_FORECAST</th>\n",
       "      <th>MEDIANHOUSESALES</th>\n",
       "      <th>MONTHLYHOUSESUPPLY</th>\n",
       "      <th>UNEMPLOYMENTFORECAST</th>\n",
       "      <th>NON_FARM</th>\n",
       "      <th>REAL_GDP_FORECAST</th>\n",
       "      <th>SHORTINTERESTRATE_FORECAST</th>\n",
       "      <th>UNEMPLOYMENTRATE</th>\n",
       "      <th>CPI_FORECAST</th>\n",
       "      <th>S&amp;P500</th>\n",
       "    </tr>\n",
       "    <tr>\n",
       "      <th>date</th>\n",
       "      <th></th>\n",
       "      <th></th>\n",
       "      <th></th>\n",
       "      <th></th>\n",
       "      <th></th>\n",
       "      <th></th>\n",
       "      <th></th>\n",
       "      <th></th>\n",
       "      <th></th>\n",
       "      <th></th>\n",
       "      <th></th>\n",
       "      <th></th>\n",
       "      <th></th>\n",
       "      <th></th>\n",
       "      <th></th>\n",
       "      <th></th>\n",
       "      <th></th>\n",
       "      <th></th>\n",
       "      <th></th>\n",
       "    </tr>\n",
       "  </thead>\n",
       "  <tbody>\n",
       "    <tr>\n",
       "      <th>2000-01-31</th>\n",
       "      <td>102.83810</td>\n",
       "      <td>6.40</td>\n",
       "      <td>6.63</td>\n",
       "      <td>112.0</td>\n",
       "      <td>73.809116</td>\n",
       "      <td>5733.3</td>\n",
       "      <td>2.738892</td>\n",
       "      <td>4.225956</td>\n",
       "      <td>5.95</td>\n",
       "      <td>142385666.7</td>\n",
       "      <td>165300</td>\n",
       "      <td>4.3</td>\n",
       "      <td>5.224948</td>\n",
       "      <td>131009</td>\n",
       "      <td>1.465778</td>\n",
       "      <td>6.033333</td>\n",
       "      <td>74.26526</td>\n",
       "      <td>3.257790</td>\n",
       "      <td>1366.42</td>\n",
       "    </tr>\n",
       "    <tr>\n",
       "      <th>2000-02-29</th>\n",
       "      <td>102.89210</td>\n",
       "      <td>6.63</td>\n",
       "      <td>6.60</td>\n",
       "      <td>111.3</td>\n",
       "      <td>74.098078</td>\n",
       "      <td>5799.9</td>\n",
       "      <td>3.221884</td>\n",
       "      <td>4.225956</td>\n",
       "      <td>6.01</td>\n",
       "      <td>142385666.7</td>\n",
       "      <td>165300</td>\n",
       "      <td>4.3</td>\n",
       "      <td>5.224948</td>\n",
       "      <td>131120</td>\n",
       "      <td>1.465778</td>\n",
       "      <td>6.033333</td>\n",
       "      <td>74.28468</td>\n",
       "      <td>3.257790</td>\n",
       "      <td>1498.58</td>\n",
       "    </tr>\n",
       "    <tr>\n",
       "      <th>2000-03-31</th>\n",
       "      <td>102.80940</td>\n",
       "      <td>6.38</td>\n",
       "      <td>6.58</td>\n",
       "      <td>107.1</td>\n",
       "      <td>74.510880</td>\n",
       "      <td>5845.4</td>\n",
       "      <td>3.757576</td>\n",
       "      <td>4.225956</td>\n",
       "      <td>6.14</td>\n",
       "      <td>142385666.7</td>\n",
       "      <td>165300</td>\n",
       "      <td>4.3</td>\n",
       "      <td>5.224948</td>\n",
       "      <td>131605</td>\n",
       "      <td>1.465778</td>\n",
       "      <td>6.033333</td>\n",
       "      <td>74.24421</td>\n",
       "      <td>3.257790</td>\n",
       "      <td>1452.43</td>\n",
       "    </tr>\n",
       "    <tr>\n",
       "      <th>2000-04-30</th>\n",
       "      <td>102.79050</td>\n",
       "      <td>6.30</td>\n",
       "      <td>6.49</td>\n",
       "      <td>109.2</td>\n",
       "      <td>74.676002</td>\n",
       "      <td>5835.4</td>\n",
       "      <td>3.068592</td>\n",
       "      <td>5.244683</td>\n",
       "      <td>6.28</td>\n",
       "      <td>142576666.7</td>\n",
       "      <td>163200</td>\n",
       "      <td>4.4</td>\n",
       "      <td>5.214622</td>\n",
       "      <td>131884</td>\n",
       "      <td>7.483628</td>\n",
       "      <td>6.573333</td>\n",
       "      <td>74.50922</td>\n",
       "      <td>3.293834</td>\n",
       "      <td>1420.60</td>\n",
       "    </tr>\n",
       "    <tr>\n",
       "      <th>2000-05-31</th>\n",
       "      <td>102.76460</td>\n",
       "      <td>6.38</td>\n",
       "      <td>6.62</td>\n",
       "      <td>110.7</td>\n",
       "      <td>74.676002</td>\n",
       "      <td>5860.8</td>\n",
       "      <td>3.188929</td>\n",
       "      <td>5.244683</td>\n",
       "      <td>6.71</td>\n",
       "      <td>142576666.7</td>\n",
       "      <td>163200</td>\n",
       "      <td>4.4</td>\n",
       "      <td>5.214622</td>\n",
       "      <td>132106</td>\n",
       "      <td>7.483628</td>\n",
       "      <td>6.573333</td>\n",
       "      <td>74.07902</td>\n",
       "      <td>3.293834</td>\n",
       "      <td>1454.60</td>\n",
       "    </tr>\n",
       "    <tr>\n",
       "      <th>...</th>\n",
       "      <td>...</td>\n",
       "      <td>...</td>\n",
       "      <td>...</td>\n",
       "      <td>...</td>\n",
       "      <td>...</td>\n",
       "      <td>...</td>\n",
       "      <td>...</td>\n",
       "      <td>...</td>\n",
       "      <td>...</td>\n",
       "      <td>...</td>\n",
       "      <td>...</td>\n",
       "      <td>...</td>\n",
       "      <td>...</td>\n",
       "      <td>...</td>\n",
       "      <td>...</td>\n",
       "      <td>...</td>\n",
       "      <td>...</td>\n",
       "      <td>...</td>\n",
       "      <td>...</td>\n",
       "    </tr>\n",
       "    <tr>\n",
       "      <th>2022-02-28</th>\n",
       "      <td>97.31078</td>\n",
       "      <td>1.16</td>\n",
       "      <td>1.78</td>\n",
       "      <td>62.8</td>\n",
       "      <td>118.911522</td>\n",
       "      <td>14861.7</td>\n",
       "      <td>7.871064</td>\n",
       "      <td>3.683679</td>\n",
       "      <td>0.38</td>\n",
       "      <td>164029000.0</td>\n",
       "      <td>433100</td>\n",
       "      <td>6.0</td>\n",
       "      <td>4.445137</td>\n",
       "      <td>151010</td>\n",
       "      <td>-1.631278</td>\n",
       "      <td>0.443333</td>\n",
       "      <td>70.88243</td>\n",
       "      <td>8.000390</td>\n",
       "      <td>4530.41</td>\n",
       "    </tr>\n",
       "    <tr>\n",
       "      <th>2022-03-31</th>\n",
       "      <td>97.07170</td>\n",
       "      <td>0.78</td>\n",
       "      <td>1.63</td>\n",
       "      <td>59.4</td>\n",
       "      <td>119.425874</td>\n",
       "      <td>14976.0</td>\n",
       "      <td>8.542456</td>\n",
       "      <td>3.683679</td>\n",
       "      <td>0.73</td>\n",
       "      <td>164029000.0</td>\n",
       "      <td>433100</td>\n",
       "      <td>7.0</td>\n",
       "      <td>4.445137</td>\n",
       "      <td>151424</td>\n",
       "      <td>-1.631278</td>\n",
       "      <td>0.443333</td>\n",
       "      <td>71.30283</td>\n",
       "      <td>8.000390</td>\n",
       "      <td>4131.93</td>\n",
       "    </tr>\n",
       "    <tr>\n",
       "      <th>2022-04-30</th>\n",
       "      <td>96.90445</td>\n",
       "      <td>0.77</td>\n",
       "      <td>1.66</td>\n",
       "      <td>65.2</td>\n",
       "      <td>120.062003</td>\n",
       "      <td>15059.0</td>\n",
       "      <td>8.258630</td>\n",
       "      <td>1.796042</td>\n",
       "      <td>0.91</td>\n",
       "      <td>164148333.3</td>\n",
       "      <td>449300</td>\n",
       "      <td>8.4</td>\n",
       "      <td>4.440214</td>\n",
       "      <td>151678</td>\n",
       "      <td>-0.577282</td>\n",
       "      <td>1.370000</td>\n",
       "      <td>71.25232</td>\n",
       "      <td>8.580631</td>\n",
       "      <td>4132.15</td>\n",
       "    </tr>\n",
       "    <tr>\n",
       "      <th>2022-05-31</th>\n",
       "      <td>96.49539</td>\n",
       "      <td>0.83</td>\n",
       "      <td>1.71</td>\n",
       "      <td>58.4</td>\n",
       "      <td>120.747255</td>\n",
       "      <td>15141.5</td>\n",
       "      <td>8.581511</td>\n",
       "      <td>1.796042</td>\n",
       "      <td>1.33</td>\n",
       "      <td>164148333.3</td>\n",
       "      <td>449300</td>\n",
       "      <td>8.3</td>\n",
       "      <td>4.440214</td>\n",
       "      <td>152042</td>\n",
       "      <td>-0.577282</td>\n",
       "      <td>1.370000</td>\n",
       "      <td>71.37484</td>\n",
       "      <td>8.580631</td>\n",
       "      <td>3785.38</td>\n",
       "    </tr>\n",
       "    <tr>\n",
       "      <th>2022-06-30</th>\n",
       "      <td>96.08616</td>\n",
       "      <td>0.88</td>\n",
       "      <td>1.73</td>\n",
       "      <td>50.0</td>\n",
       "      <td>121.644688</td>\n",
       "      <td>15274.0</td>\n",
       "      <td>9.059758</td>\n",
       "      <td>1.796042</td>\n",
       "      <td>1.87</td>\n",
       "      <td>164148333.3</td>\n",
       "      <td>449300</td>\n",
       "      <td>9.4</td>\n",
       "      <td>4.440214</td>\n",
       "      <td>152412</td>\n",
       "      <td>-0.577282</td>\n",
       "      <td>1.370000</td>\n",
       "      <td>71.24195</td>\n",
       "      <td>8.580631</td>\n",
       "      <td>4130.29</td>\n",
       "    </tr>\n",
       "  </tbody>\n",
       "</table>\n",
       "<p>270 rows × 19 columns</p>\n",
       "</div>"
      ],
      "text/plain": [
       "            CONSUMERCONFIDENCEINDEX  2YEARYIELD  10YEARYIELD  \\\n",
       "date                                                           \n",
       "2000-01-31                102.83810        6.40         6.63   \n",
       "2000-02-29                102.89210        6.63         6.60   \n",
       "2000-03-31                102.80940        6.38         6.58   \n",
       "2000-04-30                102.79050        6.30         6.49   \n",
       "2000-05-31                102.76460        6.38         6.62   \n",
       "...                             ...         ...          ...   \n",
       "2022-02-28                 97.31078        1.16         1.78   \n",
       "2022-03-31                 97.07170        0.78         1.63   \n",
       "2022-04-30                 96.90445        0.77         1.66   \n",
       "2022-05-31                 96.49539        0.83         1.71   \n",
       "2022-06-30                 96.08616        0.88         1.73   \n",
       "\n",
       "            CONSUMERSENTIMENT     CORECPI  COREPCE       CPI       GDP  \\\n",
       "date                                                                     \n",
       "2000-01-31              112.0   73.809116   5733.3  2.738892  4.225956   \n",
       "2000-02-29              111.3   74.098078   5799.9  3.221884  4.225956   \n",
       "2000-03-31              107.1   74.510880   5845.4  3.757576  4.225956   \n",
       "2000-04-30              109.2   74.676002   5835.4  3.068592  5.244683   \n",
       "2000-05-31              110.7   74.676002   5860.8  3.188929  5.244683   \n",
       "...                       ...         ...      ...       ...       ...   \n",
       "2022-02-28               62.8  118.911522  14861.7  7.871064  3.683679   \n",
       "2022-03-31               59.4  119.425874  14976.0  8.542456  3.683679   \n",
       "2022-04-30               65.2  120.062003  15059.0  8.258630  1.796042   \n",
       "2022-05-31               58.4  120.747255  15141.5  8.581511  1.796042   \n",
       "2022-06-30               50.0  121.644688  15274.0  9.059758  1.796042   \n",
       "\n",
       "            INTERESTRATE_MM  LABORFORCE_FORECAST  MEDIANHOUSESALES  \\\n",
       "date                                                                 \n",
       "2000-01-31             5.95          142385666.7            165300   \n",
       "2000-02-29             6.01          142385666.7            165300   \n",
       "2000-03-31             6.14          142385666.7            165300   \n",
       "2000-04-30             6.28          142576666.7            163200   \n",
       "2000-05-31             6.71          142576666.7            163200   \n",
       "...                     ...                  ...               ...   \n",
       "2022-02-28             0.38          164029000.0            433100   \n",
       "2022-03-31             0.73          164029000.0            433100   \n",
       "2022-04-30             0.91          164148333.3            449300   \n",
       "2022-05-31             1.33          164148333.3            449300   \n",
       "2022-06-30             1.87          164148333.3            449300   \n",
       "\n",
       "            MONTHLYHOUSESUPPLY  UNEMPLOYMENTFORECAST  NON_FARM  \\\n",
       "date                                                             \n",
       "2000-01-31                 4.3              5.224948    131009   \n",
       "2000-02-29                 4.3              5.224948    131120   \n",
       "2000-03-31                 4.3              5.224948    131605   \n",
       "2000-04-30                 4.4              5.214622    131884   \n",
       "2000-05-31                 4.4              5.214622    132106   \n",
       "...                        ...                   ...       ...   \n",
       "2022-02-28                 6.0              4.445137    151010   \n",
       "2022-03-31                 7.0              4.445137    151424   \n",
       "2022-04-30                 8.4              4.440214    151678   \n",
       "2022-05-31                 8.3              4.440214    152042   \n",
       "2022-06-30                 9.4              4.440214    152412   \n",
       "\n",
       "            REAL_GDP_FORECAST  SHORTINTERESTRATE_FORECAST  UNEMPLOYMENTRATE  \\\n",
       "date                                                                          \n",
       "2000-01-31           1.465778                    6.033333          74.26526   \n",
       "2000-02-29           1.465778                    6.033333          74.28468   \n",
       "2000-03-31           1.465778                    6.033333          74.24421   \n",
       "2000-04-30           7.483628                    6.573333          74.50922   \n",
       "2000-05-31           7.483628                    6.573333          74.07902   \n",
       "...                       ...                         ...               ...   \n",
       "2022-02-28          -1.631278                    0.443333          70.88243   \n",
       "2022-03-31          -1.631278                    0.443333          71.30283   \n",
       "2022-04-30          -0.577282                    1.370000          71.25232   \n",
       "2022-05-31          -0.577282                    1.370000          71.37484   \n",
       "2022-06-30          -0.577282                    1.370000          71.24195   \n",
       "\n",
       "            CPI_FORECAST   S&P500  \n",
       "date                               \n",
       "2000-01-31      3.257790  1366.42  \n",
       "2000-02-29      3.257790  1498.58  \n",
       "2000-03-31      3.257790  1452.43  \n",
       "2000-04-30      3.293834  1420.60  \n",
       "2000-05-31      3.293834  1454.60  \n",
       "...                  ...      ...  \n",
       "2022-02-28      8.000390  4530.41  \n",
       "2022-03-31      8.000390  4131.93  \n",
       "2022-04-30      8.580631  4132.15  \n",
       "2022-05-31      8.580631  3785.38  \n",
       "2022-06-30      8.580631  4130.29  \n",
       "\n",
       "[270 rows x 19 columns]"
      ]
     },
     "execution_count": 23,
     "metadata": {},
     "output_type": "execute_result"
    }
   ],
   "source": [
    "df_old"
   ]
  },
  {
   "cell_type": "code",
   "execution_count": 24,
   "id": "5340f0af",
   "metadata": {},
   "outputs": [],
   "source": [
    "# features_importance_df = pd.concat([df_old,prices_df],axis=1)\n",
    "\n",
    "# from sklearn.decomposition import PCA\n",
    "# from sklearn.preprocessing import StandardScaler\n",
    "\n",
    "# # Standardize the features by scaling them to have zero mean and unit variance\n",
    "# scaler = StandardScaler()\n",
    "# X_scaled = scaler.fit_transform(df_old)\n",
    "\n",
    "# # Create a PCA instance and specify the desired number of components\n",
    "# n_components = min(X_scaled.shape[1], X_scaled.shape[0])  # Adjust this value based on your requirements\n",
    "# pca = PCA(n_components=n_components)\n",
    "\n",
    "# # Fit the PCA model to the scaled data\n",
    "# pca.fit(X_scaled)\n",
    "\n",
    "# # Transform the data to the lower-dimensional space\n",
    "# X_pca = pca.transform(X_scaled)\n",
    "\n",
    "# # Create a DataFrame to store the transformed features\n",
    "# transformed_df = pd.DataFrame(X_pca, columns=[f'Component {i+1}' for i in range(n_components)])\n",
    "\n",
    "# print(transformed_df)\n",
    "# print(prices_df)\n",
    "# print(macro_df)"
   ]
  },
  {
   "cell_type": "code",
   "execution_count": 25,
   "id": "82b08772",
   "metadata": {},
   "outputs": [],
   "source": [
    "def shift(df, n):\n",
    "    df = df.shift(n)\n",
    "    df.columns = [col + str(n) for col in df.columns]\n",
    "    return df"
   ]
  },
  {
   "cell_type": "code",
   "execution_count": 26,
   "id": "5fe3926f",
   "metadata": {
    "scrolled": true
   },
   "outputs": [
    {
     "name": "stdout",
     "output_type": "stream",
     "text": [
      "            CONSUMERCONFIDENCEINDEX  2YEARYIELD  10YEARYIELD  \\\n",
      "date                                                           \n",
      "2000-04-30                 2.014657    2.447617     2.329427   \n",
      "2000-05-31                 1.997098    2.493659     2.424536   \n",
      "2000-06-30                 1.928691    2.476393     2.387956   \n",
      "2000-07-31                 1.905505    2.453372     2.351375   \n",
      "2000-08-31                 1.881369    2.672071     2.402588   \n",
      "...                             ...         ...          ...   \n",
      "2022-01-31                -1.490561   -0.654456    -1.174956   \n",
      "2022-02-28                -1.700404   -0.510575    -1.116428   \n",
      "2022-03-31                -1.862493   -0.729274    -1.226168   \n",
      "2022-04-30                -1.975882   -0.735029    -1.204220   \n",
      "2022-05-31                -2.253211   -0.700498    -1.167640   \n",
      "\n",
      "            CONSUMERSENTIMENT   CORECPI   COREPCE       CPI       GDP  \\\n",
      "date                                                                    \n",
      "2000-04-30           1.956881 -1.584825 -1.543069  0.421870  1.387431   \n",
      "2000-05-31           2.076538 -1.584825 -1.532511  0.495518  1.387431   \n",
      "2000-06-30           1.733521 -1.581365 -1.527315  0.826931  1.387431   \n",
      "2000-07-31           1.885087 -1.570983 -1.516466  0.783370  0.833177   \n",
      "2000-08-31           1.805315 -1.557142 -1.501544  0.631508  0.833177   \n",
      "...                       ...       ...       ...       ...       ...   \n",
      "2022-01-31          -1.393518  2.051905  2.163732  3.121617  0.706498   \n",
      "2022-02-28          -1.744512  2.123293  2.208916  3.361030  0.706498   \n",
      "2022-03-31          -2.015734  2.166409  2.256427  3.771929  0.706498   \n",
      "2022-04-30          -1.553060  2.219734  2.290928  3.598224 -0.116918   \n",
      "2022-05-31          -2.095506  2.277176  2.325221  3.795831 -0.116918   \n",
      "\n",
      "            INTERESTRATE_MM  LABORFORCE_FORECAST  ...  LABORFORCE_FORECAST  \\\n",
      "date                                              ...                        \n",
      "2000-04-30         2.366495            -1.879715  ...            -1.910845   \n",
      "2000-05-31         2.594344            -1.879715  ...            -1.910845   \n",
      "2000-06-30         2.604942            -1.879715  ...            -1.910845   \n",
      "2000-07-31         2.573149            -1.902533  ...            -1.879715   \n",
      "2000-08-31         2.541356            -1.902533  ...            -1.879715   \n",
      "...                     ...                  ...  ...                  ...   \n",
      "2022-01-31        -0.844594             1.616631  ...             1.287570   \n",
      "2022-02-28        -0.759812             1.616631  ...             1.287570   \n",
      "2022-03-31        -0.574353             1.616631  ...             1.287570   \n",
      "2022-04-30        -0.478975             1.636080  ...             1.616631   \n",
      "2022-05-31        -0.256424             1.636080  ...             1.616631   \n",
      "\n",
      "            MEDIANHOUSESALES  MONTHLYHOUSESUPPLY  UNEMPLOYMENTFORECAST  \\\n",
      "date                                                                     \n",
      "2000-04-30         -1.488111           -0.791808              1.826425   \n",
      "2000-05-31         -1.488111           -0.791808              1.826425   \n",
      "2000-06-30         -1.488111           -0.791808              1.826425   \n",
      "2000-07-31         -1.520758           -0.738903              1.780219   \n",
      "2000-08-31         -1.520758           -0.738903              1.780219   \n",
      "...                      ...                 ...                   ...   \n",
      "2022-01-31          2.527503            0.583716             -1.638377   \n",
      "2022-02-28          2.527503            0.213383             -1.638377   \n",
      "2022-03-31          2.527503           -0.104046             -1.638377   \n",
      "2022-04-30          2.675193           -0.051141             -1.663053   \n",
      "2022-05-31          2.675193            0.107573             -1.663053   \n",
      "\n",
      "            NON_FARM  REAL_GDP_FORECAST  SHORTINTERESTRATE_FORECAST  \\\n",
      "date                                                                  \n",
      "2000-04-30 -1.003428          -0.115980                    2.245813   \n",
      "2000-05-31 -0.987201          -0.115980                    2.245813   \n",
      "2000-06-30 -0.916297          -0.115980                    2.245813   \n",
      "2000-07-31 -0.875509           0.986269                    2.533205   \n",
      "2000-08-31 -0.843054           0.986269                    2.533205   \n",
      "...              ...                ...                         ...   \n",
      "2022-01-31  1.562257           0.889857                   -0.890659   \n",
      "2022-02-28  1.652020           0.889857                   -0.890659   \n",
      "2022-03-31  1.735204           0.889857                   -0.890659   \n",
      "2022-04-30  1.788418          -0.683247                   -0.729223   \n",
      "2022-05-31  1.920576          -0.683247                   -0.729223   \n",
      "\n",
      "            UNEMPLOYMENTRATE  CPI_FORECAST    S&P500  \n",
      "date                                                  \n",
      "2000-04-30          1.885326      0.553687 -0.505204  \n",
      "2000-05-31          1.893769      0.553687 -0.364275  \n",
      "2000-06-30          1.876175      0.553687 -0.413487  \n",
      "2000-07-31          1.991384      0.576374 -0.447429  \n",
      "2000-08-31          1.804362      0.576374 -0.411173  \n",
      "...                      ...           ...       ...  \n",
      "2022-01-31          0.114484      2.733703  2.907750  \n",
      "2022-02-28          0.305453      2.733703  3.120146  \n",
      "2022-03-31          0.374767      2.733703  2.852886  \n",
      "2022-04-30          0.355434      3.538835  2.701719  \n",
      "2022-05-31          0.414697      3.538835  2.868732  \n",
      "\n",
      "[266 rows x 76 columns]\n"
     ]
    }
   ],
   "source": [
    "#x = macro_df.pct_change().dropna()\n",
    "x = macro_df\n",
    "#x = transformed_df\n",
    "#x = x[[\"COREPCE\", \"CPI\", \"GDP\", \"INTERESTRATE_MM\", \"REAL_GDP_FORECAST\"]]\n",
    "#x = pd.concat([x, shift(x, 1), shift(x, 2), shift(x, 3)], axis=1).dropna().iloc[:-1]\n",
    "x = pd.concat([x, x.fillna(method='ffill').shift(1), x.fillna(method='ffill').shift(2), x.fillna(method='ffill').shift(3)], axis=1).dropna().iloc[:-1]\n",
    "print(x)"
   ]
  },
  {
   "cell_type": "code",
   "execution_count": 27,
   "id": "5873f193",
   "metadata": {},
   "outputs": [
    {
     "name": "stdout",
     "output_type": "stream",
     "text": [
      "macro df: \n",
      "             CONSUMERCONFIDENCEINDEX  2YEARYIELD  10YEARYIELD  \\\n",
      "date                                                           \n",
      "2000-01-31                 2.046929    2.505169     2.431852   \n",
      "2000-02-29                 2.083539    2.637540     2.409904   \n",
      "\n",
      "            CONSUMERSENTIMENT   CORECPI   COREPCE       CPI       GDP  \\\n",
      "date                                                                    \n",
      "2000-01-31           2.180241 -1.657493 -1.585509  0.220091  0.943047   \n",
      "2000-02-29           2.124401 -1.633270 -1.557826  0.515687  0.943047   \n",
      "\n",
      "            INTERESTRATE_MM  LABORFORCE_FORECAST  MEDIANHOUSESALES  \\\n",
      "date                                                                 \n",
      "2000-01-31         2.191634            -1.910845         -1.488111   \n",
      "2000-02-29         2.223427            -1.910845         -1.488111   \n",
      "\n",
      "            MONTHLYHOUSESUPPLY  UNEMPLOYMENTFORECAST  NON_FARM  \\\n",
      "date                                                             \n",
      "2000-01-31           -0.791808              1.826425 -1.003428   \n",
      "2000-02-29           -0.791808              1.826425 -0.987201   \n",
      "\n",
      "            REAL_GDP_FORECAST  SHORTINTERESTRATE_FORECAST  UNEMPLOYMENTRATE  \\\n",
      "date                                                                          \n",
      "2000-01-31           -0.11598                    2.245813          1.885326   \n",
      "2000-02-29           -0.11598                    2.245813          1.893769   \n",
      "\n",
      "            CPI_FORECAST    S&P500  \n",
      "date                                \n",
      "2000-01-31      0.553687 -0.505204  \n",
      "2000-02-29      0.553687 -0.364275  \n"
     ]
    },
    {
     "data": {
      "image/png": "[encoded data removed]",
      "text/plain": [
       "<Figure size 432x288 with 1 Axes>"
      ]
     },
     "metadata": {
      "needs_background": "light"
     },
     "output_type": "display_data"
    }
   ],
   "source": [
    "#features_importance_df = pd.concat([df_old,prices_df],axis=1)\n",
    "#features_importance_df = df_old\n",
    "features_importance_df = macro_df\n",
    "print(\"macro df: \\n\", macro_df.head(2))\n",
    "from sklearn.decomposition import PCA\n",
    "from sklearn.preprocessing import StandardScaler\n",
    "\n",
    "# Standardize the features by scaling them to have zero mean and unit variance\n",
    "scaler = StandardScaler()\n",
    "X_scaled = scaler.fit_transform(features_importance_df)\n",
    "\n",
    "# Create a PCA instance and specify the desired number of components\n",
    "n_components = min(X_scaled.shape[1], X_scaled.shape[0])  # Adjust this value based on your requirements\n",
    "#n_components = 6\n",
    "pca = PCA(n_components=n_components)\n",
    "# Fit the PCA model to the scaled data\n",
    "pca.fit(X_scaled)\n",
    "\n",
    "# Transform the data to the lower-dimensional space\n",
    "X_pca = pca.transform(X_scaled)\n",
    "\n",
    "# Create a DataFrame to store the transformed features\n",
    "transformed_df = pd.DataFrame(X_pca, columns=[f'Component {i+1}' for i in range(n_components)])\n",
    "\n",
    "plt.plot(range(1,n_components+1),np.cumsum(pca.explained_variance_ratio_))\n",
    "plt.scatter(range(1,n_components+1),np.cumsum(pca.explained_variance_ratio_))\n",
    "\n",
    "plt.xlim(0,n_components+1)\n",
    "plt.ylim(0.2,1.1)\n",
    "plt.xlabel(\"number of components\")\n",
    "plt.ylabel(\"cumulative explained variance\")\n",
    "plt.show()"
   ]
  },
  {
   "cell_type": "code",
   "execution_count": 28,
   "id": "b8e93241",
   "metadata": {},
   "outputs": [],
   "source": [
    "comp_idx = np.argmax((pca.explained_variance_ / pca.explained_variance_.sum()).cumsum() > 0.99) + 1\n",
    "eigen_vectors = pca.components_[:, :comp_idx]"
   ]
  },
  {
   "cell_type": "code",
   "execution_count": 29,
   "id": "b4a3c05e",
   "metadata": {},
   "outputs": [
    {
     "data": {
      "text/plain": [
       "((19, 9), (270, 19))"
      ]
     },
     "execution_count": 29,
     "metadata": {},
     "output_type": "execute_result"
    }
   ],
   "source": [
    "eigen_vectors.shape,features_importance_df.shape"
   ]
  },
  {
   "cell_type": "code",
   "execution_count": 30,
   "id": "d60d2dea",
   "metadata": {},
   "outputs": [
    {
     "data": {
      "text/plain": [
       "(270, 19)"
      ]
     },
     "execution_count": 30,
     "metadata": {},
     "output_type": "execute_result"
    }
   ],
   "source": [
    "X_scaled.shape"
   ]
  },
  {
   "cell_type": "code",
   "execution_count": 31,
   "id": "20796f19",
   "metadata": {},
   "outputs": [],
   "source": [
    "x_final = X_scaled @ eigen_vectors"
   ]
  },
  {
   "cell_type": "code",
   "execution_count": 32,
   "id": "616c0741",
   "metadata": {
    "scrolled": false
   },
   "outputs": [],
   "source": [
    "# x = macro_df.pct_change().dropna().iloc[:-1]\n",
    "#y = prices_df.pct_change().dropna().shift(-1).loc[x.index]\n",
    "y = prices_df.pct_change().shift(-1).loc[features_importance_df.index].ffill()"
   ]
  },
  {
   "cell_type": "code",
   "execution_count": 33,
   "id": "3c80b5d4",
   "metadata": {},
   "outputs": [],
   "source": [
    "split_index      = int(macro_df.shape[0] * validation_ratio)"
   ]
  },
  {
   "cell_type": "markdown",
   "id": "28d0192d",
   "metadata": {},
   "source": [
    "<br>"
   ]
  },
  {
   "cell_type": "code",
   "execution_count": 34,
   "id": "3bc2f364",
   "metadata": {},
   "outputs": [
    {
     "data": {
      "text/plain": [
       "(266, 76)"
      ]
     },
     "execution_count": 34,
     "metadata": {},
     "output_type": "execute_result"
    }
   ],
   "source": [
    "x.shape"
   ]
  },
  {
   "cell_type": "code",
   "execution_count": 35,
   "id": "32f8cd84",
   "metadata": {},
   "outputs": [
    {
     "name": "stdout",
     "output_type": "stream",
     "text": [
      "[[-2.26777554  1.04322575 -0.94557383 ... -2.10750654 -0.10642137\n",
      "   2.09178898]\n",
      " [-2.27692711  1.06033352 -0.96778946 ... -2.14666691 -0.05169327\n",
      "   2.13915609]\n",
      " [-2.23086104  1.04470383 -1.03737954 ... -2.03995152  0.2319594\n",
      "   2.1971945 ]\n",
      " ...\n",
      " [ 1.28908209  0.37923541  0.71155855 ... -0.21054909 -0.90676916\n",
      "  -0.63810921]\n",
      " [ 1.23328308  0.34915666  0.62657229 ... -0.23407427 -0.8678675\n",
      "  -0.70791231]\n",
      " [ 1.30129374  0.12125409  0.65349315 ...  0.1506171  -0.72640156\n",
      "  -0.79719496]]\n"
     ]
    }
   ],
   "source": [
    "x_train = x_final[:-split_index]\n",
    "y_train = y.iloc[:-split_index]\n",
    "x_val   = x_final[-split_index:]\n",
    "y_val   = y.iloc[-split_index:]\n",
    "\n",
    "print(x_train)"
   ]
  },
  {
   "cell_type": "code",
   "execution_count": 36,
   "id": "0cd30b1d",
   "metadata": {},
   "outputs": [],
   "source": [
    "#model = LR()\n",
    "# model = ElasticNet(alpha=0.0)\n",
    "#model = DecisionTreeRegressor(max_depth=5)\n",
    "#model = LinearRegression()\n",
    "# Random Forest of Regression Stumps\n",
    "model = RandomForestRegressor(n_estimators=40, max_depth=1, max_features=1, random_state=0)"
   ]
  },
  {
   "cell_type": "code",
   "execution_count": 37,
   "id": "987891db",
   "metadata": {
    "scrolled": false
   },
   "outputs": [
    {
     "data": {
      "text/plain": [
       "RandomForestRegressor(max_depth=1, max_features=1, n_estimators=40,\n",
       "                      random_state=0)"
      ]
     },
     "execution_count": 37,
     "metadata": {},
     "output_type": "execute_result"
    }
   ],
   "source": [
    "model.fit(x_train, y_train)"
   ]
  },
  {
   "cell_type": "code",
   "execution_count": 38,
   "id": "ff32ccef",
   "metadata": {},
   "outputs": [
    {
     "data": {
      "text/plain": [
       "(0.037832097671002526, 0.015075238881641306)"
      ]
     },
     "execution_count": 38,
     "metadata": {},
     "output_type": "execute_result"
    }
   ],
   "source": [
    "model.score(x_train, y_train), model.score(x_val, y_val)"
   ]
  },
  {
   "cell_type": "code",
   "execution_count": 39,
   "id": "e86bf6a7",
   "metadata": {},
   "outputs": [
    {
     "data": {
      "text/plain": [
       "Index(['CONSUMERCONFIDENCEINDEX', '2YEARYIELD', '10YEARYIELD',\n",
       "       'CONSUMERSENTIMENT', 'CORECPI', 'COREPCE', 'CPI', 'GDP',\n",
       "       'INTERESTRATE_MM', 'LABORFORCE_FORECAST', 'MEDIANHOUSESALES',\n",
       "       'MONTHLYHOUSESUPPLY', 'UNEMPLOYMENTFORECAST', 'NON_FARM',\n",
       "       'REAL_GDP_FORECAST', 'SHORTINTERESTRATE_FORECAST', 'UNEMPLOYMENTRATE',\n",
       "       'CPI_FORECAST', 'S&P500', 'CONSUMERCONFIDENCEINDEX', '2YEARYIELD',\n",
       "       '10YEARYIELD', 'CONSUMERSENTIMENT', 'CORECPI', 'COREPCE', 'CPI', 'GDP',\n",
       "       'INTERESTRATE_MM', 'LABORFORCE_FORECAST', 'MEDIANHOUSESALES',\n",
       "       'MONTHLYHOUSESUPPLY', 'UNEMPLOYMENTFORECAST', 'NON_FARM',\n",
       "       'REAL_GDP_FORECAST', 'SHORTINTERESTRATE_FORECAST', 'UNEMPLOYMENTRATE',\n",
       "       'CPI_FORECAST', 'S&P500', 'CONSUMERCONFIDENCEINDEX', '2YEARYIELD',\n",
       "       '10YEARYIELD', 'CONSUMERSENTIMENT', 'CORECPI', 'COREPCE', 'CPI', 'GDP',\n",
       "       'INTERESTRATE_MM', 'LABORFORCE_FORECAST', 'MEDIANHOUSESALES',\n",
       "       'MONTHLYHOUSESUPPLY', 'UNEMPLOYMENTFORECAST', 'NON_FARM',\n",
       "       'REAL_GDP_FORECAST', 'SHORTINTERESTRATE_FORECAST', 'UNEMPLOYMENTRATE',\n",
       "       'CPI_FORECAST', 'S&P500', 'CONSUMERCONFIDENCEINDEX', '2YEARYIELD',\n",
       "       '10YEARYIELD', 'CONSUMERSENTIMENT', 'CORECPI', 'COREPCE', 'CPI', 'GDP',\n",
       "       'INTERESTRATE_MM', 'LABORFORCE_FORECAST', 'MEDIANHOUSESALES',\n",
       "       'MONTHLYHOUSESUPPLY', 'UNEMPLOYMENTFORECAST', 'NON_FARM',\n",
       "       'REAL_GDP_FORECAST', 'SHORTINTERESTRATE_FORECAST', 'UNEMPLOYMENTRATE',\n",
       "       'CPI_FORECAST', 'S&P500'],\n",
       "      dtype='object')"
      ]
     },
     "execution_count": 39,
     "metadata": {},
     "output_type": "execute_result"
    }
   ],
   "source": [
    "x.columns"
   ]
  },
  {
   "cell_type": "code",
   "execution_count": 40,
   "id": "a31808c1",
   "metadata": {},
   "outputs": [
    {
     "data": {
      "text/plain": [
       "array([ 0.3224135 , -0.05606953,  0.06631527,  0.0324061 , -0.03611457,\n",
       "        0.02852041, -0.01271139,  0.2380384 , -0.53235699,  0.44515255,\n",
       "       -0.48972274,  0.16955592, -0.25264729, -0.10102261,  0.00968184,\n",
       "       -0.02786935, -0.05322048,  0.0250084 , -0.00308335])"
      ]
     },
     "execution_count": 40,
     "metadata": {},
     "output_type": "execute_result"
    }
   ],
   "source": [
    "pca.components_[:,2]"
   ]
  },
  {
   "cell_type": "code",
   "execution_count": 41,
   "id": "5e72a530",
   "metadata": {},
   "outputs": [],
   "source": [
    "N = 6\n",
    "def get_weights(row):\n",
    "    sorted_row = row.sort_values()\n",
    "    long_weights = sorted_row.iloc[-N:]\n",
    "    long_weights = long_weights / long_weights.abs().sum()\n",
    "    weights_dict = long_weights.to_dict()\n",
    "    for name_to_short, long_weight in zip(sorted_row.iloc[:N][::-1].index, long_weights):\n",
    "        weights_dict[name_to_short] = -long_weight\n",
    "\n",
    "    return pd.Series(weights_dict)"
   ]
  },
  {
   "cell_type": "markdown",
   "id": "02dd2108",
   "metadata": {},
   "source": [
    "<br>"
   ]
  },
  {
   "cell_type": "code",
   "execution_count": 42,
   "id": "2ede6f20",
   "metadata": {},
   "outputs": [],
   "source": [
    "y_train_pred = model.predict(x_train)\n",
    "y_train_pred = pd.DataFrame(y_train_pred, index=y_train.index, columns=y_train.columns)"
   ]
  },
  {
   "cell_type": "code",
   "execution_count": 43,
   "id": "89874aa6",
   "metadata": {},
   "outputs": [
    {
     "data": {
      "text/plain": [
       "0.037832097671002526"
      ]
     },
     "execution_count": 43,
     "metadata": {},
     "output_type": "execute_result"
    }
   ],
   "source": [
    "model.score(x_train, y_train)"
   ]
  },
  {
   "cell_type": "code",
   "execution_count": 44,
   "id": "5db6e156",
   "metadata": {},
   "outputs": [],
   "source": [
    "weights_df = y_train_pred.apply(get_weights, axis=1).fillna(0.0)\n",
    "\n",
    "pnls = (weights_df * y_train.shift(-1)).fillna(0.0)\n",
    "\n",
    "pnl_series = pnls.sum(axis=1)"
   ]
  },
  {
   "cell_type": "code",
   "execution_count": 45,
   "id": "0dacffb4",
   "metadata": {},
   "outputs": [
    {
     "data": {
      "image/png": "[encoded data removed]",
      "text/plain": [
       "<Figure size 720x360 with 1 Axes>"
      ]
     },
     "metadata": {
      "needs_background": "light"
     },
     "output_type": "display_data"
    },
    {
     "data": {
      "image/png": "[encoded data removed]",
      "text/plain": [
       "<Figure size 720x360 with 1 Axes>"
      ]
     },
     "metadata": {
      "needs_background": "light"
     },
     "output_type": "display_data"
    }
   ],
   "source": [
    "value_series = (1 + pnl_series).cumprod()\n",
    "value_series.plot(figsize=(10, 5), c=\"b\")\n",
    "plt.title(\"Cumulative PnL\", fontsize=14)\n",
    "plt.axhline(value_series[-1], c=\"k\", linestyle=\"--\")\n",
    "\n",
    "asset_pnl_serieses = (1 + pnls).cumprod()\n",
    "asset_pnl_serieses.plot(figsize=(10, 5))\n",
    "plt.title(\"Asset-wise Cumulative PnL\")\n",
    "plt.show()"
   ]
  },
  {
   "cell_type": "markdown",
   "id": "a7085ee7",
   "metadata": {},
   "source": [
    "#### Sharpe"
   ]
  },
  {
   "cell_type": "code",
   "execution_count": 46,
   "id": "e389c5aa",
   "metadata": {},
   "outputs": [
    {
     "data": {
      "text/plain": [
       "(0.1107196225066444, 0.13698112949183838, 0.8082837608171518)"
      ]
     },
     "execution_count": 46,
     "metadata": {},
     "output_type": "execute_result"
    }
   ],
   "source": [
    "train_pnl_mean = pnl_series.mean() * 12\n",
    "train_pnl_std  = pnl_series.std() * np.sqrt(12)\n",
    "train_sharpe   = train_pnl_mean / train_pnl_std\n",
    "train_pnl_mean, train_pnl_std, train_sharpe"
   ]
  },
  {
   "cell_type": "markdown",
   "id": "9ed3361f",
   "metadata": {},
   "source": [
    "#### Max Drawdown"
   ]
  },
  {
   "cell_type": "code",
   "execution_count": 47,
   "id": "520e47ab",
   "metadata": {},
   "outputs": [
    {
     "data": {
      "text/plain": [
       "0.15705227295593882"
      ]
     },
     "execution_count": 47,
     "metadata": {},
     "output_type": "execute_result"
    }
   ],
   "source": [
    "max_drawdown = 1 - (value_series / value_series.cummax()).min()\n",
    "max_drawdown"
   ]
  },
  {
   "cell_type": "markdown",
   "id": "0106a628",
   "metadata": {},
   "source": [
    "#### Beta"
   ]
  },
  {
   "cell_type": "code",
   "execution_count": 48,
   "id": "10a9eeee",
   "metadata": {},
   "outputs": [],
   "source": [
    "spx    = y_train[\"SPX Index\"].values.reshape(-1, 1)\n",
    "beta_x = np.hstack([np.ones_like(spx), spx])[:-1]\n",
    "beta_y = pnl_series.values.reshape(-1, 1)[:-1]"
   ]
  },
  {
   "cell_type": "code",
   "execution_count": 49,
   "id": "78caa393",
   "metadata": {},
   "outputs": [
    {
     "data": {
      "text/plain": [
       "(0.009076134263389168, 0.07499393292560182)"
      ]
     },
     "execution_count": 49,
     "metadata": {},
     "output_type": "execute_result"
    }
   ],
   "source": [
    "alpha, beta = np.linalg.inv(beta_x.T @ beta_x) @ (beta_x.T @ beta_y).reshape(-1)\n",
    "alpha, beta"
   ]
  },
  {
   "cell_type": "code",
   "execution_count": 50,
   "id": "cf081568",
   "metadata": {},
   "outputs": [
    {
     "data": {
      "image/png": "[encoded data removed]",
      "text/plain": [
       "<Figure size 720x288 with 1 Axes>"
      ]
     },
     "metadata": {
      "needs_background": "light"
     },
     "output_type": "display_data"
    }
   ],
   "source": [
    "# SPX tends to fall into bottom category since it is supposedly the more diversified index\n",
    "plt.title(\"Net Short on SPX\")\n",
    "weights_df[\"SPX Index\"].plot(c=\"b\", figsize=(10, 4))\n",
    "plt.show()"
   ]
  },
  {
   "cell_type": "markdown",
   "id": "01cebfaa",
   "metadata": {},
   "source": [
    "<br><br><br>"
   ]
  },
  {
   "cell_type": "markdown",
   "id": "0586cd6a",
   "metadata": {},
   "source": [
    "## Validation"
   ]
  },
  {
   "cell_type": "code",
   "execution_count": 51,
   "id": "629382a1",
   "metadata": {},
   "outputs": [],
   "source": [
    "y_val_pred = model.predict(x_val)\n",
    "y_val_pred = pd.DataFrame(y_val_pred, index=y_val.index, columns=y_val.columns)"
   ]
  },
  {
   "cell_type": "code",
   "execution_count": 52,
   "id": "2b99345e",
   "metadata": {},
   "outputs": [
    {
     "data": {
      "text/plain": [
       "0.015075238881641306"
      ]
     },
     "execution_count": 52,
     "metadata": {},
     "output_type": "execute_result"
    }
   ],
   "source": [
    "model.score(x_val, y_val)"
   ]
  },
  {
   "cell_type": "code",
   "execution_count": 53,
   "id": "3f36d3a2",
   "metadata": {},
   "outputs": [],
   "source": [
    "weights_df = y_val_pred.apply(get_weights, axis=1).fillna(0.0)\n",
    "\n",
    "pnls = (weights_df * y_val.shift(-1)).fillna(0.0)\n",
    "#pnls = (weights_df * y_val.shift).fillna(0.0)\n",
    "\n",
    "#implement stoploss\n",
    "pnls[pnls < stop_loss] = stop_loss\n",
    "#implement takeprofit\n",
    "pnls[pnls > take_profit] = take_profit\n",
    "pnl_series = pnls.sum(axis=1)"
   ]
  },
  {
   "cell_type": "code",
   "execution_count": 54,
   "id": "c8fa18a2",
   "metadata": {
    "scrolled": false
   },
   "outputs": [
    {
     "data": {
      "image/png": "[encoded data removed]",
      "text/plain": [
       "<Figure size 720x360 with 1 Axes>"
      ]
     },
     "metadata": {
      "needs_background": "light"
     },
     "output_type": "display_data"
    },
    {
     "data": {
      "image/png": "[encoded data removed]",
      "text/plain": [
       "<Figure size 720x360 with 1 Axes>"
      ]
     },
     "metadata": {
      "needs_background": "light"
     },
     "output_type": "display_data"
    }
   ],
   "source": [
    "value_series = (1 + pnl_series).cumprod()\n",
    "value_series.plot(figsize=(10, 5), c=\"b\")\n",
    "plt.title(\"Cumulative PnL\", fontsize=14)\n",
    "plt.axhline(value_series[-1], c=\"k\", linestyle=\"--\")\n",
    "\n",
    "asset_pnl_serieses = (1 + pnls).cumprod()\n",
    "asset_pnl_serieses.plot(figsize=(10, 5))\n",
    "plt.title(\"Asset-wise Cumulative PnL\")\n",
    "plt.show()"
   ]
  },
  {
   "cell_type": "markdown",
   "id": "86b0cfa8",
   "metadata": {},
   "source": [
    "#### Sharpe"
   ]
  },
  {
   "cell_type": "code",
   "execution_count": 55,
   "id": "37ad0498",
   "metadata": {
    "scrolled": true
   },
   "outputs": [
    {
     "data": {
      "text/plain": [
       "(0.02479522849576877, 0.07042879090905771, 0.1810120020746808)"
      ]
     },
     "execution_count": 55,
     "metadata": {},
     "output_type": "execute_result"
    }
   ],
   "source": [
    "val_pnl_mean = pnl_series.mean() * 12\n",
    "val_pnl_std  = pnl_series.std() * np.sqrt(12)\n",
    "val_sharpe   = val_pnl_mean / train_pnl_std\n",
    "\n",
    "val_pnl_mean, val_pnl_std, val_sharpe"
   ]
  },
  {
   "cell_type": "markdown",
   "id": "0dff1a81",
   "metadata": {},
   "source": [
    "#### Average Portfolio Return per year"
   ]
  },
  {
   "cell_type": "code",
   "execution_count": 56,
   "id": "ea944051",
   "metadata": {
    "scrolled": true
   },
   "outputs": [
    {
     "data": {
      "text/plain": [
       "1024795.2284957689"
      ]
     },
     "execution_count": 56,
     "metadata": {},
     "output_type": "execute_result"
    }
   ],
   "source": [
    "Investment_Value = Initial_capital*(1+val_pnl_mean)\n",
    "Investment_Value"
   ]
  },
  {
   "cell_type": "markdown",
   "id": "292d5355",
   "metadata": {},
   "source": [
    "#### Porfolio Value After n years based on data"
   ]
  },
  {
   "cell_type": "code",
   "execution_count": 57,
   "id": "dcbd3253",
   "metadata": {},
   "outputs": [
    {
     "data": {
      "text/plain": [
       "1167367.792346439"
      ]
     },
     "execution_count": 57,
     "metadata": {},
     "output_type": "execute_result"
    }
   ],
   "source": [
    "Investment_Value_n_years = Initial_capital*(1+pnl_series.sum())\n",
    "Investment_Value_n_years"
   ]
  },
  {
   "cell_type": "markdown",
   "id": "c44111cc",
   "metadata": {},
   "source": [
    "#### CAGR"
   ]
  },
  {
   "cell_type": "code",
   "execution_count": 58,
   "id": "e8c29069",
   "metadata": {},
   "outputs": [
    {
     "data": {
      "text/plain": [
       "0.022594503238923647"
      ]
     },
     "execution_count": 58,
     "metadata": {},
     "output_type": "execute_result"
    }
   ],
   "source": [
    "val_cagr = (value_series[-1]**(12/len(value_series)))-1\n",
    "val_cagr"
   ]
  },
  {
   "cell_type": "markdown",
   "id": "27b650b7",
   "metadata": {},
   "source": [
    "#### Max Drawdown"
   ]
  },
  {
   "cell_type": "code",
   "execution_count": 59,
   "id": "baf392e4",
   "metadata": {},
   "outputs": [
    {
     "data": {
      "text/plain": [
       "0.09987030833407684"
      ]
     },
     "execution_count": 59,
     "metadata": {},
     "output_type": "execute_result"
    }
   ],
   "source": [
    "max_drawdown = 1 - (value_series / value_series.cummax()).min()\n",
    "max_drawdown"
   ]
  },
  {
   "cell_type": "markdown",
   "id": "2e08f687",
   "metadata": {},
   "source": [
    "#### Beta"
   ]
  },
  {
   "cell_type": "code",
   "execution_count": 60,
   "id": "3f16f620",
   "metadata": {},
   "outputs": [],
   "source": [
    "spx    = y_val[\"SPX Index\"].values.reshape(-1, 1)\n",
    "beta_x = np.hstack([np.ones_like(spx), spx])[:-1]\n",
    "beta_y = pnl_series.values.reshape(-1, 1)[:-1]"
   ]
  },
  {
   "cell_type": "code",
   "execution_count": 61,
   "id": "30fa1304",
   "metadata": {},
   "outputs": [
    {
     "data": {
      "text/plain": [
       "(0.002459068108836389, -0.043288000517957864)"
      ]
     },
     "execution_count": 61,
     "metadata": {},
     "output_type": "execute_result"
    }
   ],
   "source": [
    "alpha, beta = np.linalg.inv(beta_x.T @ beta_x) @ (beta_x.T @ beta_y).reshape(-1)\n",
    "alpha, beta"
   ]
  },
  {
   "cell_type": "code",
   "execution_count": 62,
   "id": "24ceb71f",
   "metadata": {
    "scrolled": true
   },
   "outputs": [
    {
     "data": {
      "image/png": "[encoded data removed]",
      "text/plain": [
       "<Figure size 720x288 with 1 Axes>"
      ]
     },
     "metadata": {
      "needs_background": "light"
     },
     "output_type": "display_data"
    }
   ],
   "source": [
    "# SPX tends to fall into bottom category since it is supposedly the more diversified index\n",
    "plt.title(\"Net Short on SPX\")\n",
    "weights_df[\"SPX Index\"].plot(c=\"b\", figsize=(10, 4))\n",
    "plt.show()"
   ]
  },
  {
   "cell_type": "markdown",
   "id": "c444e01f",
   "metadata": {},
   "source": [
    "## BACKTESTING"
   ]
  },
  {
   "cell_type": "code",
   "execution_count": 63,
   "id": "8b056191",
   "metadata": {},
   "outputs": [
    {
     "name": "stdout",
     "output_type": "stream",
     "text": [
      "Start Date: 2015-10-31 00:00:00\n",
      "End Date: 2022-06-30 00:00:00\n"
     ]
    }
   ],
   "source": [
    "start_date = pnls.index.min()\n",
    "end_date = pnls.index.max()\n",
    "print(\"Start Date:\", start_date)\n",
    "print(\"End Date:\", end_date)"
   ]
  },
  {
   "cell_type": "code",
   "execution_count": 64,
   "id": "bc9bf957",
   "metadata": {},
   "outputs": [
    {
     "data": {
      "text/html": [
       "<div>\n",
       "<style scoped>\n",
       "    .dataframe tbody tr th:only-of-type {\n",
       "        vertical-align: middle;\n",
       "    }\n",
       "\n",
       "    .dataframe tbody tr th {\n",
       "        vertical-align: top;\n",
       "    }\n",
       "\n",
       "    .dataframe thead th {\n",
       "        text-align: right;\n",
       "    }\n",
       "</style>\n",
       "<table border=\"1\" class=\"dataframe\">\n",
       "  <thead>\n",
       "    <tr style=\"text-align: right;\">\n",
       "      <th></th>\n",
       "      <th>Mkt-RF</th>\n",
       "      <th>SMB</th>\n",
       "      <th>HML</th>\n",
       "      <th>RMW</th>\n",
       "      <th>CMA</th>\n",
       "      <th>RF</th>\n",
       "    </tr>\n",
       "  </thead>\n",
       "  <tbody>\n",
       "    <tr>\n",
       "      <th>1963-07-01</th>\n",
       "      <td>-0.39</td>\n",
       "      <td>-0.41</td>\n",
       "      <td>-0.97</td>\n",
       "      <td>0.68</td>\n",
       "      <td>-1.18</td>\n",
       "      <td>0.27</td>\n",
       "    </tr>\n",
       "    <tr>\n",
       "      <th>1963-08-01</th>\n",
       "      <td>5.07</td>\n",
       "      <td>-0.80</td>\n",
       "      <td>1.80</td>\n",
       "      <td>0.36</td>\n",
       "      <td>-0.35</td>\n",
       "      <td>0.25</td>\n",
       "    </tr>\n",
       "    <tr>\n",
       "      <th>1963-09-01</th>\n",
       "      <td>-1.57</td>\n",
       "      <td>-0.52</td>\n",
       "      <td>0.13</td>\n",
       "      <td>-0.71</td>\n",
       "      <td>0.29</td>\n",
       "      <td>0.27</td>\n",
       "    </tr>\n",
       "    <tr>\n",
       "      <th>1963-10-01</th>\n",
       "      <td>2.53</td>\n",
       "      <td>-1.39</td>\n",
       "      <td>-0.10</td>\n",
       "      <td>2.80</td>\n",
       "      <td>-2.01</td>\n",
       "      <td>0.29</td>\n",
       "    </tr>\n",
       "    <tr>\n",
       "      <th>1963-11-01</th>\n",
       "      <td>-0.85</td>\n",
       "      <td>-0.88</td>\n",
       "      <td>1.75</td>\n",
       "      <td>-0.51</td>\n",
       "      <td>2.24</td>\n",
       "      <td>0.27</td>\n",
       "    </tr>\n",
       "    <tr>\n",
       "      <th>...</th>\n",
       "      <td>...</td>\n",
       "      <td>...</td>\n",
       "      <td>...</td>\n",
       "      <td>...</td>\n",
       "      <td>...</td>\n",
       "      <td>...</td>\n",
       "    </tr>\n",
       "    <tr>\n",
       "      <th>2022-12-01</th>\n",
       "      <td>-6.41</td>\n",
       "      <td>-0.16</td>\n",
       "      <td>1.32</td>\n",
       "      <td>0.09</td>\n",
       "      <td>4.19</td>\n",
       "      <td>0.33</td>\n",
       "    </tr>\n",
       "    <tr>\n",
       "      <th>2023-01-01</th>\n",
       "      <td>6.65</td>\n",
       "      <td>4.43</td>\n",
       "      <td>-4.05</td>\n",
       "      <td>-2.62</td>\n",
       "      <td>-4.53</td>\n",
       "      <td>0.35</td>\n",
       "    </tr>\n",
       "    <tr>\n",
       "      <th>2023-02-01</th>\n",
       "      <td>-2.58</td>\n",
       "      <td>0.69</td>\n",
       "      <td>-0.78</td>\n",
       "      <td>0.90</td>\n",
       "      <td>-1.41</td>\n",
       "      <td>0.34</td>\n",
       "    </tr>\n",
       "    <tr>\n",
       "      <th>2023-03-01</th>\n",
       "      <td>2.51</td>\n",
       "      <td>-7.01</td>\n",
       "      <td>-9.01</td>\n",
       "      <td>1.92</td>\n",
       "      <td>-2.29</td>\n",
       "      <td>0.36</td>\n",
       "    </tr>\n",
       "    <tr>\n",
       "      <th>2023-04-01</th>\n",
       "      <td>0.61</td>\n",
       "      <td>-2.56</td>\n",
       "      <td>-0.03</td>\n",
       "      <td>2.30</td>\n",
       "      <td>2.85</td>\n",
       "      <td>0.35</td>\n",
       "    </tr>\n",
       "  </tbody>\n",
       "</table>\n",
       "<p>718 rows × 6 columns</p>\n",
       "</div>"
      ],
      "text/plain": [
       "            Mkt-RF   SMB   HML   RMW   CMA    RF\n",
       "1963-07-01   -0.39 -0.41 -0.97  0.68 -1.18  0.27\n",
       "1963-08-01    5.07 -0.80  1.80  0.36 -0.35  0.25\n",
       "1963-09-01   -1.57 -0.52  0.13 -0.71  0.29  0.27\n",
       "1963-10-01    2.53 -1.39 -0.10  2.80 -2.01  0.29\n",
       "1963-11-01   -0.85 -0.88  1.75 -0.51  2.24  0.27\n",
       "...            ...   ...   ...   ...   ...   ...\n",
       "2022-12-01   -6.41 -0.16  1.32  0.09  4.19  0.33\n",
       "2023-01-01    6.65  4.43 -4.05 -2.62 -4.53  0.35\n",
       "2023-02-01   -2.58  0.69 -0.78  0.90 -1.41  0.34\n",
       "2023-03-01    2.51 -7.01 -9.01  1.92 -2.29  0.36\n",
       "2023-04-01    0.61 -2.56 -0.03  2.30  2.85  0.35\n",
       "\n",
       "[718 rows x 6 columns]"
      ]
     },
     "execution_count": 64,
     "metadata": {},
     "output_type": "execute_result"
    }
   ],
   "source": [
    "# fama french data factors\n",
    "fafr5 = pd.read_csv('F-F_Research_Data_5_Factors_2x3.csv', skiprows=3, nrows=718, parse_dates=True, index_col=0, date_parser=lambda x:pd.to_datetime(x, format='%Y%m'))\n",
    "fafr5"
   ]
  },
  {
   "cell_type": "code",
   "execution_count": 65,
   "id": "60376306",
   "metadata": {},
   "outputs": [
    {
     "data": {
      "text/plain": [
       "2015-11-01    0.0000\n",
       "2015-12-01    0.0001\n",
       "2016-01-01    0.0001\n",
       "2016-02-01    0.0002\n",
       "2016-03-01    0.0002\n",
       "               ...  \n",
       "2022-03-01    0.0001\n",
       "2022-04-01    0.0001\n",
       "2022-05-01    0.0003\n",
       "2022-06-01    0.0006\n",
       "2022-07-01    0.0008\n",
       "Name: RF, Length: 81, dtype: float64"
      ]
     },
     "execution_count": 65,
     "metadata": {},
     "output_type": "execute_result"
    }
   ],
   "source": [
    "rfr = fafr5[\"RF\"]/100\n",
    "rfr = rfr.loc[(rfr.index >= start_date) & (rfr.index <= end_date + pd.offsets.DateOffset(months=1))]\n",
    "rfr"
   ]
  },
  {
   "cell_type": "code",
   "execution_count": 66,
   "id": "f4d53530",
   "metadata": {},
   "outputs": [],
   "source": [
    "def get_buynhold(df,start,end,rf_rate):\n",
    "    df1 = df.copy()\n",
    "    df1 = df1.loc[start:end]\n",
    "    df2 = rf_rate.copy()\n",
    "    df2 = df2.loc[start:end]\n",
    "    combined = []\n",
    "    for count, i in enumerate(df1.columns):\n",
    "        cum_ret = (1+ df1.iloc[:,count]).cumprod()\n",
    "        sharpe = ((df1.iloc[:,count]-df2).mean()/((df1.iloc[:,count]-df2).std()))*np.sqrt(12)\n",
    "        cagr = (cum_ret[-1]**(12/len(df1.iloc[:,count])))-1\n",
    "        maxd = 1 - (cum_ret / cum_ret.cummax()).min()\n",
    "        vol =  (df1.iloc[:,count].std())*np.sqrt(12)\n",
    "        key = [sharpe,cagr,maxd,vol]\n",
    "        stats = pd.DataFrame(key, index = [\"BnH Sharpe\",\"BnH CAGR\",\"BnH Max Drawdown\", \"BnH Volatility\"], columns = [df1.iloc[:,count].name])\n",
    "        combined.append(stats)\n",
    "        combined_df = pd.concat(combined, axis = 1).T\n",
    "        \n",
    "        \n",
    "    return combined_df"
   ]
  },
  {
   "cell_type": "code",
   "execution_count": 67,
   "id": "6c14f91f",
   "metadata": {},
   "outputs": [],
   "source": [
    "rfr.index = y_val.index"
   ]
  },
  {
   "cell_type": "code",
   "execution_count": 68,
   "id": "b79e24b3",
   "metadata": {},
   "outputs": [
    {
     "name": "stdout",
     "output_type": "stream",
     "text": [
      "<class 'pandas.core.frame.DataFrame'>\n",
      "DatetimeIndex: 81 entries, 2015-10-31 to 2022-06-30\n",
      "Freq: M\n",
      "Data columns (total 15 columns):\n",
      " #   Column      Non-Null Count  Dtype  \n",
      "---  ------      --------------  -----  \n",
      " 0   CTRN Index  81 non-null     float64\n",
      " 1   RTY Index   81 non-null     float64\n",
      " 2   INDU Index  81 non-null     float64\n",
      " 3   CBNK Index  81 non-null     float64\n",
      " 4   NYA Index   81 non-null     float64\n",
      " 5   CFIN Index  81 non-null     float64\n",
      " 6   CINS Index  81 non-null     float64\n",
      " 7   TRAN Index  81 non-null     float64\n",
      " 8   CUTL Index  81 non-null     float64\n",
      " 9   SPX Index   81 non-null     float64\n",
      " 10  CCMP Index  81 non-null     float64\n",
      " 11  UTIL Index  81 non-null     float64\n",
      " 12  RIY Index   81 non-null     float64\n",
      " 13  RAY Index   81 non-null     float64\n",
      " 14  CIND Index  81 non-null     float64\n",
      "dtypes: float64(15)\n",
      "memory usage: 10.1 KB\n"
     ]
    }
   ],
   "source": [
    "y_val.info()"
   ]
  },
  {
   "cell_type": "code",
   "execution_count": 69,
   "id": "6f310bb3",
   "metadata": {},
   "outputs": [
    {
     "name": "stdout",
     "output_type": "stream",
     "text": [
      "<class 'pandas.core.series.Series'>\n",
      "DatetimeIndex: 81 entries, 2015-10-31 to 2022-06-30\n",
      "Freq: M\n",
      "Series name: RF\n",
      "Non-Null Count  Dtype  \n",
      "--------------  -----  \n",
      "81 non-null     float64\n",
      "dtypes: float64(1)\n",
      "memory usage: 1.3 KB\n"
     ]
    }
   ],
   "source": [
    "rfr.info()"
   ]
  },
  {
   "cell_type": "code",
   "execution_count": 70,
   "id": "932bae64",
   "metadata": {},
   "outputs": [
    {
     "data": {
      "text/html": [
       "<div>\n",
       "<style scoped>\n",
       "    .dataframe tbody tr th:only-of-type {\n",
       "        vertical-align: middle;\n",
       "    }\n",
       "\n",
       "    .dataframe tbody tr th {\n",
       "        vertical-align: top;\n",
       "    }\n",
       "\n",
       "    .dataframe thead th {\n",
       "        text-align: right;\n",
       "    }\n",
       "</style>\n",
       "<table border=\"1\" class=\"dataframe\">\n",
       "  <thead>\n",
       "    <tr style=\"text-align: right;\">\n",
       "      <th></th>\n",
       "      <th>BnH Sharpe</th>\n",
       "      <th>BnH CAGR</th>\n",
       "      <th>BnH Max Drawdown</th>\n",
       "      <th>BnH Volatility</th>\n",
       "    </tr>\n",
       "  </thead>\n",
       "  <tbody>\n",
       "    <tr>\n",
       "      <th>CTRN Index</th>\n",
       "      <td>0.224962</td>\n",
       "      <td>0.034057</td>\n",
       "      <td>0.332755</td>\n",
       "      <td>0.213870</td>\n",
       "    </tr>\n",
       "    <tr>\n",
       "      <th>RTY Index</th>\n",
       "      <td>0.277752</td>\n",
       "      <td>0.045116</td>\n",
       "      <td>0.337584</td>\n",
       "      <td>0.206420</td>\n",
       "    </tr>\n",
       "    <tr>\n",
       "      <th>INDU Index</th>\n",
       "      <td>0.493766</td>\n",
       "      <td>0.074611</td>\n",
       "      <td>0.232013</td>\n",
       "      <td>0.152457</td>\n",
       "    </tr>\n",
       "    <tr>\n",
       "      <th>CBNK Index</th>\n",
       "      <td>0.234190</td>\n",
       "      <td>0.035917</td>\n",
       "      <td>0.425750</td>\n",
       "      <td>0.246150</td>\n",
       "    </tr>\n",
       "    <tr>\n",
       "      <th>NYA Index</th>\n",
       "      <td>0.251741</td>\n",
       "      <td>0.035769</td>\n",
       "      <td>0.259552</td>\n",
       "      <td>0.153884</td>\n",
       "    </tr>\n",
       "    <tr>\n",
       "      <th>CFIN Index</th>\n",
       "      <td>0.310646</td>\n",
       "      <td>0.047202</td>\n",
       "      <td>0.376483</td>\n",
       "      <td>0.167730</td>\n",
       "    </tr>\n",
       "    <tr>\n",
       "      <th>CINS Index</th>\n",
       "      <td>0.287126</td>\n",
       "      <td>0.041961</td>\n",
       "      <td>0.273957</td>\n",
       "      <td>0.157592</td>\n",
       "    </tr>\n",
       "    <tr>\n",
       "      <th>TRAN Index</th>\n",
       "      <td>0.342971</td>\n",
       "      <td>0.060768</td>\n",
       "      <td>0.320496</td>\n",
       "      <td>0.215811</td>\n",
       "    </tr>\n",
       "    <tr>\n",
       "      <th>CUTL Index</th>\n",
       "      <td>0.308050</td>\n",
       "      <td>0.049016</td>\n",
       "      <td>0.348870</td>\n",
       "      <td>0.180849</td>\n",
       "    </tr>\n",
       "    <tr>\n",
       "      <th>SPX Index</th>\n",
       "      <td>0.512414</td>\n",
       "      <td>0.078712</td>\n",
       "      <td>0.272434</td>\n",
       "      <td>0.155282</td>\n",
       "    </tr>\n",
       "    <tr>\n",
       "      <th>CCMP Index</th>\n",
       "      <td>0.605883</td>\n",
       "      <td>0.107500</td>\n",
       "      <td>0.356483</td>\n",
       "      <td>0.182681</td>\n",
       "    </tr>\n",
       "    <tr>\n",
       "      <th>UTIL Index</th>\n",
       "      <td>0.468418</td>\n",
       "      <td>0.070320</td>\n",
       "      <td>0.194349</td>\n",
       "      <td>0.151892</td>\n",
       "    </tr>\n",
       "    <tr>\n",
       "      <th>RIY Index</th>\n",
       "      <td>0.491889</td>\n",
       "      <td>0.076669</td>\n",
       "      <td>0.282181</td>\n",
       "      <td>0.159128</td>\n",
       "    </tr>\n",
       "    <tr>\n",
       "      <th>RAY Index</th>\n",
       "      <td>0.475877</td>\n",
       "      <td>0.074562</td>\n",
       "      <td>0.283466</td>\n",
       "      <td>0.161000</td>\n",
       "    </tr>\n",
       "    <tr>\n",
       "      <th>CIND Index</th>\n",
       "      <td>0.465198</td>\n",
       "      <td>0.082694</td>\n",
       "      <td>0.391665</td>\n",
       "      <td>0.192593</td>\n",
       "    </tr>\n",
       "  </tbody>\n",
       "</table>\n",
       "</div>"
      ],
      "text/plain": [
       "            BnH Sharpe  BnH CAGR  BnH Max Drawdown  BnH Volatility\n",
       "CTRN Index    0.224962  0.034057          0.332755        0.213870\n",
       "RTY Index     0.277752  0.045116          0.337584        0.206420\n",
       "INDU Index    0.493766  0.074611          0.232013        0.152457\n",
       "CBNK Index    0.234190  0.035917          0.425750        0.246150\n",
       "NYA Index     0.251741  0.035769          0.259552        0.153884\n",
       "CFIN Index    0.310646  0.047202          0.376483        0.167730\n",
       "CINS Index    0.287126  0.041961          0.273957        0.157592\n",
       "TRAN Index    0.342971  0.060768          0.320496        0.215811\n",
       "CUTL Index    0.308050  0.049016          0.348870        0.180849\n",
       "SPX Index     0.512414  0.078712          0.272434        0.155282\n",
       "CCMP Index    0.605883  0.107500          0.356483        0.182681\n",
       "UTIL Index    0.468418  0.070320          0.194349        0.151892\n",
       "RIY Index     0.491889  0.076669          0.282181        0.159128\n",
       "RAY Index     0.475877  0.074562          0.283466        0.161000\n",
       "CIND Index    0.465198  0.082694          0.391665        0.192593"
      ]
     },
     "execution_count": 70,
     "metadata": {},
     "output_type": "execute_result"
    }
   ],
   "source": [
    "get_buynhold(y_val, start_date, end_date, rfr)"
   ]
  },
  {
   "cell_type": "code",
   "execution_count": 71,
   "id": "1279568b",
   "metadata": {},
   "outputs": [],
   "source": [
    "# pnl_series_pd = pd.DataFrame(pnl_series)\n",
    "# pnl_series_pd"
   ]
  },
  {
   "cell_type": "code",
   "execution_count": 72,
   "id": "287655a1",
   "metadata": {},
   "outputs": [],
   "source": [
    "# get_buynhold(pnl_series_pd, start_date, end_date, rfr)"
   ]
  }
 ],
 "metadata": {
  "kernelspec": {
   "display_name": "Python 3 (ipykernel)",
   "language": "python",
   "name": "python3"
  },
  "language_info": {
   "codemirror_mode": {
    "name": "ipython",
    "version": 3
   },
   "file_extension": ".py",
   "mimetype": "text/x-python",
   "name": "python",
   "nbconvert_exporter": "python",
   "pygments_lexer": "ipython3",
   "version": "3.9.12"
  }
 },
 "nbformat": 4,
 "nbformat_minor": 5
}
